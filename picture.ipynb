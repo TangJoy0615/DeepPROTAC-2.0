{
 "cells": [
  {
   "cell_type": "code",
   "execution_count": 4,
   "metadata": {},
   "outputs": [],
   "source": [
    "import os\n",
    "from pathlib import  Path\n",
    "import glob\n",
    "import pickle\n",
    "from pymol import cmd\n",
    "import random\n"
   ]
  },
  {
   "cell_type": "code",
   "execution_count": 7,
   "metadata": {},
   "outputs": [
    {
     "name": "stderr",
     "output_type": "stream",
     "text": [
      "RDKit ERROR: [15:56:13] Can't kekulize mol.  Unkekulized atoms: 0 3 4 5 6 7 8 9 10 11 12\n",
      "RDKit ERROR: \n"
     ]
    },
    {
     "name": "stdout",
     "output_type": "stream",
     "text": [
      "2876_FGFR2_CRBN.smi无法读取分子\n"
     ]
    },
    {
     "name": "stderr",
     "output_type": "stream",
     "text": [
      "RDKit ERROR: [15:56:15] Can't kekulize mol.  Unkekulized atoms: 0 1 2 3 4 5 6 7 10 13 14\n",
      "RDKit ERROR: \n"
     ]
    },
    {
     "name": "stdout",
     "output_type": "stream",
     "text": [
      "2870_FGFR2_CRBN.smi无法读取分子\n"
     ]
    },
    {
     "name": "stderr",
     "output_type": "stream",
     "text": [
      "RDKit ERROR: [15:56:37] Can't kekulize mol.  Unkekulized atoms: 0 1 2 3 4 5 6 7 10 13 14\n",
      "RDKit ERROR: \n"
     ]
    },
    {
     "name": "stdout",
     "output_type": "stream",
     "text": [
      "2874_FGFR2_CRBN.smi无法读取分子\n"
     ]
    },
    {
     "name": "stderr",
     "output_type": "stream",
     "text": [
      "RDKit ERROR: [15:56:44] Can't kekulize mol.  Unkekulized atoms: 0 1 2 3 4 5 6 7 10 13 14\n",
      "RDKit ERROR: \n"
     ]
    },
    {
     "name": "stdout",
     "output_type": "stream",
     "text": [
      "2873_FGFR2_CRBN.smi无法读取分子\n"
     ]
    },
    {
     "name": "stderr",
     "output_type": "stream",
     "text": [
      "RDKit ERROR: [15:56:52] Can't kekulize mol.  Unkekulized atoms: 0 1 2 3 4 5 6 7 10 13 14\n",
      "RDKit ERROR: \n"
     ]
    },
    {
     "name": "stdout",
     "output_type": "stream",
     "text": [
      "2872_FGFR2_CRBN.smi无法读取分子\n"
     ]
    },
    {
     "name": "stderr",
     "output_type": "stream",
     "text": [
      "RDKit ERROR: [15:57:43] Can't kekulize mol.  Unkekulized atoms: 0 1 2 3 4 5 6 7 8 9 12\n",
      "RDKit ERROR: \n"
     ]
    },
    {
     "name": "stdout",
     "output_type": "stream",
     "text": [
      "1359_NS3_CRBN.smi无法读取分子\n"
     ]
    },
    {
     "name": "stderr",
     "output_type": "stream",
     "text": [
      "RDKit ERROR: [15:57:44] Can't kekulize mol.  Unkekulized atoms: 0 1 2 3 4 5 6 7 10 13 14\n",
      "RDKit ERROR: \n"
     ]
    },
    {
     "name": "stdout",
     "output_type": "stream",
     "text": [
      "2875_FGFR2_CRBN.smi无法读取分子\n"
     ]
    },
    {
     "name": "stderr",
     "output_type": "stream",
     "text": [
      "RDKit ERROR: [15:58:02] Can't kekulize mol.  Unkekulized atoms: 0 1 2 3 4 5 6 7 10 13 14\n",
      "RDKit ERROR: \n"
     ]
    },
    {
     "name": "stdout",
     "output_type": "stream",
     "text": [
      "2877_FGFR2_CRBN.smi无法读取分子\n"
     ]
    }
   ],
   "source": [
    "from rdkit import Chem\n",
    "from rdkit.Chem import Draw\n",
    "from rdkit.Chem import Draw, AllChem\n",
    "name_list = os.listdir('picture/ligase_ligand_smi/')\n",
    "# print(len(name_list))\n",
    "for i in name_list:\n",
    "    with open(f\"picture/ligase_ligand_smi/{i}\") as f:\n",
    "        smi = f.readline()\n",
    "    # print(smi.split()[0])\n",
    "    mol = Chem.MolFromSmiles(smi.split()[0])\n",
    "    # print(i)\n",
    "    # AllChem.Compute2DCoords(mol)\n",
    "    if mol is not None:\n",
    "        # 生成2D图像\n",
    "        img = Chem.Draw.MolToImage(mol,size=(500, 500))\n",
    "        img.save(f\"picture/test/{i.split('.')[0]}.png\")  # 保存到文件\n",
    "    else:\n",
    "        print(f\"{i}无法读取分子\")\n",
    "\n",
    "\n",
    "\n"
   ]
  },
  {
   "cell_type": "code",
   "execution_count": 9,
   "metadata": {},
   "outputs": [
    {
     "name": "stderr",
     "output_type": "stream",
     "text": [
      "RDKit ERROR: [16:09:43] Can't kekulize mol.  Unkekulized atoms: 5 6 7 11 12 14 15\n",
      "RDKit ERROR: \n"
     ]
    },
    {
     "name": "stdout",
     "output_type": "stream",
     "text": [
      "2914_MIF_CRBN.smi无法读取分子\n"
     ]
    },
    {
     "name": "stderr",
     "output_type": "stream",
     "text": [
      "RDKit ERROR: [16:09:45] Can't kekulize mol.  Unkekulized atoms: 0 1 2 3 4 5 8 11 12 13 14\n",
      "RDKit ERROR: \n"
     ]
    },
    {
     "name": "stdout",
     "output_type": "stream",
     "text": [
      "503_MCL1_CRBN.smi无法读取分子\n"
     ]
    },
    {
     "name": "stderr",
     "output_type": "stream",
     "text": [
      "RDKit ERROR: [16:09:45] Can't kekulize mol.  Unkekulized atoms: 11 12 13 14 15 20 21\n",
      "RDKit ERROR: \n"
     ]
    },
    {
     "name": "stdout",
     "output_type": "stream",
     "text": [
      "2876_FGFR2_CRBN.smi无法读取分子\n"
     ]
    },
    {
     "name": "stderr",
     "output_type": "stream",
     "text": [
      "RDKit ERROR: [16:10:12] Can't kekulize mol.  Unkekulized atoms: 5 6 7 11 12 14 15\n",
      "RDKit ERROR: \n"
     ]
    },
    {
     "name": "stdout",
     "output_type": "stream",
     "text": [
      "2912_MIF_CRBN.smi无法读取分子\n"
     ]
    },
    {
     "name": "stderr",
     "output_type": "stream",
     "text": [
      "RDKit ERROR: [16:10:17] Can't kekulize mol.  Unkekulized atoms: 0 1 2 3 4 5 8 11 12 13 14\n",
      "RDKit ERROR: \n"
     ]
    },
    {
     "name": "stdout",
     "output_type": "stream",
     "text": [
      "498_MCL1_CRBN.smi无法读取分子\n"
     ]
    },
    {
     "name": "stderr",
     "output_type": "stream",
     "text": [
      "RDKit ERROR: [16:10:17] Can't kekulize mol.  Unkekulized atoms: 0 1 2 3 4 5 8 11 12 13 14\n",
      "RDKit ERROR: \n"
     ]
    },
    {
     "name": "stdout",
     "output_type": "stream",
     "text": [
      "502_MCL1_CRBN.smi无法读取分子\n"
     ]
    },
    {
     "name": "stderr",
     "output_type": "stream",
     "text": [
      "RDKit ERROR: [16:10:24] Can't kekulize mol.  Unkekulized atoms: 5 6 7 11 12 14 15\n",
      "RDKit ERROR: \n"
     ]
    },
    {
     "name": "stdout",
     "output_type": "stream",
     "text": [
      "2907_MIF_CRBN.smi无法读取分子\n"
     ]
    },
    {
     "name": "stderr",
     "output_type": "stream",
     "text": [
      "RDKit ERROR: [16:10:27] Can't kekulize mol.  Unkekulized atoms: 2 5 6 7 8 9 10 11 12 21 22\n",
      "RDKit ERROR: \n"
     ]
    },
    {
     "name": "stdout",
     "output_type": "stream",
     "text": [
      "500_BCL2_CRBN.smi无法读取分子\n"
     ]
    },
    {
     "name": "stderr",
     "output_type": "stream",
     "text": [
      "RDKit ERROR: [16:10:36] Can't kekulize mol.  Unkekulized atoms: 5 6 7 11 12 14 15\n",
      "RDKit ERROR: \n"
     ]
    },
    {
     "name": "stdout",
     "output_type": "stream",
     "text": [
      "2910_MIF_CRBN.smi无法读取分子\n"
     ]
    },
    {
     "name": "stderr",
     "output_type": "stream",
     "text": [
      "RDKit ERROR: [16:10:51] Can't kekulize mol.  Unkekulized atoms: 5 6 7 11 12 14 15\n",
      "RDKit ERROR: \n"
     ]
    },
    {
     "name": "stdout",
     "output_type": "stream",
     "text": [
      "2913_MIF_CRBN.smi无法读取分子\n"
     ]
    },
    {
     "name": "stderr",
     "output_type": "stream",
     "text": [
      "RDKit ERROR: [16:10:55] Can't kekulize mol.  Unkekulized atoms: 2 5 6 7 8 9 10 11 12 21 22\n",
      "RDKit ERROR: \n"
     ]
    },
    {
     "name": "stdout",
     "output_type": "stream",
     "text": [
      "501_BCL2_CRBN.smi无法读取分子\n"
     ]
    },
    {
     "name": "stderr",
     "output_type": "stream",
     "text": [
      "RDKit ERROR: [16:11:01] Can't kekulize mol.  Unkekulized atoms: 5 6 7 11 12 14 15\n",
      "RDKit ERROR: \n"
     ]
    },
    {
     "name": "stdout",
     "output_type": "stream",
     "text": [
      "2908_MIF_CRBN.smi无法读取分子\n"
     ]
    },
    {
     "name": "stderr",
     "output_type": "stream",
     "text": [
      "RDKit ERROR: [16:11:05] Can't kekulize mol.  Unkekulized atoms: 2 5 6 7 8 9 10 11 12 21 22\n",
      "RDKit ERROR: \n"
     ]
    },
    {
     "name": "stdout",
     "output_type": "stream",
     "text": [
      "502_BCL2_CRBN.smi无法读取分子\n"
     ]
    },
    {
     "name": "stderr",
     "output_type": "stream",
     "text": [
      "RDKit ERROR: [16:11:05] Can't kekulize mol.  Unkekulized atoms: 5 6 7 11 12 14 15\n",
      "RDKit ERROR: \n"
     ]
    },
    {
     "name": "stdout",
     "output_type": "stream",
     "text": [
      "2909_MIF_CRBN.smi无法读取分子\n"
     ]
    },
    {
     "name": "stderr",
     "output_type": "stream",
     "text": [
      "RDKit ERROR: [16:11:06] Can't kekulize mol.  Unkekulized atoms: 2 5 6 7 8 9 10 11 12 21 22\n",
      "RDKit ERROR: \n"
     ]
    },
    {
     "name": "stdout",
     "output_type": "stream",
     "text": [
      "499_BCL2_CRBN.smi无法读取分子\n"
     ]
    },
    {
     "name": "stderr",
     "output_type": "stream",
     "text": [
      "RDKit ERROR: [16:11:09] Can't kekulize mol.  Unkekulized atoms: 2 5 6 7 8 9 10 11 12 21 22\n",
      "RDKit ERROR: \n"
     ]
    },
    {
     "name": "stdout",
     "output_type": "stream",
     "text": [
      "498_BCL2_CRBN.smi无法读取分子\n"
     ]
    },
    {
     "name": "stderr",
     "output_type": "stream",
     "text": [
      "RDKit ERROR: [16:11:15] Can't kekulize mol.  Unkekulized atoms: 5 6 7 11 12 14 15\n",
      "RDKit ERROR: \n"
     ]
    },
    {
     "name": "stdout",
     "output_type": "stream",
     "text": [
      "2911_MIF_CRBN.smi无法读取分子\n"
     ]
    },
    {
     "name": "stderr",
     "output_type": "stream",
     "text": [
      "RDKit ERROR: [16:11:17] Can't kekulize mol.  Unkekulized atoms: 11 12 13 14 15 20 21\n",
      "RDKit ERROR: \n"
     ]
    },
    {
     "name": "stdout",
     "output_type": "stream",
     "text": [
      "2875_FGFR2_CRBN.smi无法读取分子\n"
     ]
    },
    {
     "name": "stderr",
     "output_type": "stream",
     "text": [
      "RDKit ERROR: [16:11:23] Can't kekulize mol.  Unkekulized atoms: 0 1 2 3 4 5 8 11 12 13 14\n",
      "RDKit ERROR: \n"
     ]
    },
    {
     "name": "stdout",
     "output_type": "stream",
     "text": [
      "499_MCL1_CRBN.smi无法读取分子\n"
     ]
    },
    {
     "name": "stderr",
     "output_type": "stream",
     "text": [
      "RDKit ERROR: [16:11:23] Can't kekulize mol.  Unkekulized atoms: 0 1 2 3 4 5 8 11 12 13 14\n",
      "RDKit ERROR: \n"
     ]
    },
    {
     "name": "stdout",
     "output_type": "stream",
     "text": [
      "501_MCL1_CRBN.smi无法读取分子\n"
     ]
    },
    {
     "name": "stderr",
     "output_type": "stream",
     "text": [
      "RDKit ERROR: [16:11:24] Can't kekulize mol.  Unkekulized atoms: 2 5 6 7 8 9 10 11 12 21 22\n",
      "RDKit ERROR: \n"
     ]
    },
    {
     "name": "stdout",
     "output_type": "stream",
     "text": [
      "503_BCL2_CRBN.smi无法读取分子\n"
     ]
    },
    {
     "name": "stderr",
     "output_type": "stream",
     "text": [
      "RDKit ERROR: [16:11:27] Can't kekulize mol.  Unkekulized atoms: 0 1 2 3 4 5 8 11 12 13 14\n",
      "RDKit ERROR: \n"
     ]
    },
    {
     "name": "stdout",
     "output_type": "stream",
     "text": [
      "500_MCL1_CRBN.smi无法读取分子\n"
     ]
    }
   ],
   "source": [
    "from rdkit import Chem\n",
    "from rdkit.Chem import Draw\n",
    "from rdkit.Chem import Draw, AllChem\n",
    "name_list = os.listdir('picture/target_ligand_smi/')\n",
    "# print(len(name_list))\n",
    "for i in name_list:\n",
    "    with open(f\"picture/target_ligand_smi/{i}\") as f:\n",
    "        smi = f.readline()\n",
    "    # print(smi.split()[0])\n",
    "    mol = Chem.MolFromSmiles(smi.split()[0])\n",
    "    # print(i)\n",
    "    # AllChem.Compute2DCoords(mol)\n",
    "    if mol is not None:\n",
    "        # 生成2D图像\n",
    "        img = Chem.Draw.MolToImage(mol,size=(500, 500))\n",
    "        img.save(f\"picture/target_ligand_picture/{i.split('.')[0]}.png\")  # 保存到文件\n",
    "    else:\n",
    "        print(f\"{i}无法读取分子\")\n",
    "\n",
    "\n",
    "\n"
   ]
  },
  {
   "cell_type": "code",
   "execution_count": 12,
   "metadata": {},
   "outputs": [
    {
     "name": "stdout",
     "output_type": "stream",
     "text": [
      "['2214_ALK_CRBN', '2333_AR_CRBN', '2232_EGFR-e19d_CRBN', '1326_HDAC6_CRBN', '25_BRD9_VHL', '385_CDK4_CRBN', '2121_ER_CRBN', '2858_JAK2_CRBN', '902_ER_VHL', '2910_MIF_CRBN', '375_CDK6_CRBN', '1777_PRMT5_VHL', '43_MDM2_CRBN', '3060_AR_CRBN', '2309_AR_CRBN', '237_BRAF_CRBN', '1446_TBK1_CRBN', '2799_MDM2_CRBN', '2719_HSP90_CRBN', '610_CDK9_CRBN', '2996_SHP2-F285S_CRBN', '1505_SHP2_VHL', '1043_ER_cIAP1', '1875_AR_CRBN', '1306_PARP2_CRBN', '1364_BTK_CRBN', '2885_FGFR2_VHL', 'b275_CDK9_CRBN', '2539_ALK_CRBN', '2458_CDK9_CRBN', '1555_EGFR-L858R-T790M_VHL', '2963_PD-L1_CRBN', '2200_ALK_CRBN', '2597_AKT1_CRBN', '1162_HDAC6_CRBN', '1804_IRAK4_CRBN', '1368_BTK_CRBN', '1132_HMGCR_CRBN', '818_PLK1_CRBN', '1650_BTK_CRBN', '796_SMARCA4_VHL', '2073_BRAF-V600K_VHL', '172_PARP1_MDM2', '2572_AKT1_CRBN', '1807_FAK_CRBN', '2422_HDAC2_VHL', '141_BRD2_CRBN', 'b193_BRD4_CRBN', 'b98_ER_VHL', '196_ERRalpha_VHL', '116_AR_VHL', '129_BRD4_CRBN', '2882_FGFR2_VHL', '1652_BRD3_VHL', 'b246_FAK_VHL', '2598_AKT3_CRBN', '1476_EGFR-L858R-T790M-L718Q_CRBN', '316_BCR-ABL_CRBN', '128_BRD2_CRBN', '2588_AKT1_VHL', '324_BCR-ABL_CRBN', '1485_KRAS_VHL', '1696_TRKA_CRBN', '2054_BRAF-V600E_CRBN', '13_BRD7_VHL', '936_EED_VHL', '1284_BCL-xL_XIAP', '1629_p38alpha_CRBN', '2308_AR_CRBN', '2576_AKT2_VHL', '2997_Wee1_VHL', 'b57_CDK9_CRBN', '2255_CDK12-C1039F_CRBN', '2747_GSK-3beta_VHL', '104_AR_VHL', '1510_BCR-ABL_CRBN', '160_BRD4_CRBN', '1335_Beta-tubulin_CRBN', '1750_MEK2_CRBN', '726_HDAC6_CRBN', '520_ALK_VHL', '1728_MEK1_VHL', '1416_c-KIT_CRBN', '2852_JAK3_CRBN', '3152_CDK4_CRBN', '1732_MEK1_VHL', '1730_MEK2_VHL', '2384_BCL-xL_VHL', '1367_BTK_CRBN', '865_ER_VHL', '2357_TTK_CRBN', '1332_Beta-tubulin_CRBN', '1492_SHP2_VHL', '2962_PD-L1_CRBN', '2617_EGFR-L858R-T790M_VHL', '1221_BRD3_CRBN', '1733_MEK1_VHL', '3212_LXRA_CRBN', '1606_BCR-ABL_CRBN', '1134_HMGCR_CRBN', '3125_MDM2_MDM2', '2242_SHP2_CRBN', '720_CDK4_CRBN', '2099_PARP1_CRBN', '26_BRD9_VHL', '2942_FLT3_CRBN', '616_CDK9_CRBN', '456_BCR-ABL_VHL', '1535_BRD2_VHL', 'b19_WDR5_VHL', 'b35_PD-L1_CRBN', '2003_CBP_CRBN', '2562_AKT2_CRBN', '2134_SMARCA4_VHL', '1625_p38alpha_CRBN', '844_ER_CRBN', '1230_FLT-3_CRBN', '1630_p38alpha_CRBN', '3076_JAK2_CRBN', '2584_AKT2_VHL', '60_ER_VHL', '246_BTK_CRBN', '1644_p38alpha_CRBN', '2069_CDK2_CRBN', '2594_AKT3_CRBN', '113_AR_VHL', '2745_GSK3A_CRBN', '409_BCR-ABL_VHL', '2823_MDM2_CRBN', '2225_ALK_CRBN', '163_BRD2_CRBN', '2030_CDK6_VHL', 'b395_HDAC8_CRBN', '1763_EZH2_CRBN', 'b156_ABL_cIAP1', '1782_PRMT5_VHL', '905_ER_VHL', '53_MDM2_CRBN', '2439_HDAC2_VHL', '182_p38delta_VHL', '2808_MDM2_CRBN', '361_AR_VHL', '762_JAK2_VHL', '954_KRAS-G12C_CRBN', '2330_AR_CRBN', '2263_FLT3-ITD_CRBN', '2625_EGFR-L858R-T790M_VHL', '1648_BCR-ABL_VHL', '2746_GSK3A_VHL', '628_BCL-xL_VHL', '1695_TRKA_CRBN', '394_CDK4_CRBN', '328_BRD2_VHL', '67_ER_VHL', '1112_HMGCR_CRBN', '1116_HMGCR_CRBN', '1529_FKBP12_CRBN', '2723_HSP90_CRBN', '2440_HDAC3_VHL', '2805_MDM2_CRBN', 'b354_AKT2_CRBN', '421_CDK6_cIAP1', '3193_HDAC8_CRBN', '1518_BRD2_CRBN', '1469_ER_VHL', '2928_FLT3-ITD_CRBN', '3174_BTK-C481A_CRBN', '1118_HMGCR_CRBN', '802_CDK9_CRBN', '1993_EGFR_CRBN', 'b358_AKT2_CRBN', '2427_HDAC1_VHL', '883_ER_VHL', 'b151_ABL_cIAP1', '140_BRD2_CRBN', 'b54_CDK9_CRBN', '585_EGFR_VHL', '1148_MEK2_VHL', '914_ER_VHL', '1832_IDO1_CRBN', 'b6_WDR5_VHL', '1754_MEK2_CRBN', 'b274_CDK9_CRBN', '694_CRABP-I_cIAP1', '2859_JAK2_CRBN', '2988_KRAS-G12C_CRBN', '594_EGFR-e19d_CRBN', '2710_BCR-ABL_CRBN', '982_Cdc20_VHL', '2366_RIPK2_IAP', '160_BRD3_CRBN', 'b264_CDK9_CRBN', '3098_BRD9_CRBN', '1221_BRD2_CRBN', 'b158_ABL_cIAP1', '2578_AKT1_VHL', '2931_FLT3-ITD-F691L_CRBN', '339_BRD3_CRBN', '2854_JAK3_CRBN', '2795_MDM2_CRBN', '1674_PARP1_CRBN', '1079_AR_cIAP1', '2966_PD-L1_CRBN', '2319_AR_CRBN', '919_ER_VHL', '312_BRD4_VHL', '1538_EGFR-L858R-T790M_CRBN', 'b12_WDR5_VHL', '2949_MDM2_CRBN', '767_JAK1_XIAP', '1173_HDAC6_VHL', '1544_EGFR-L858R-T790M_CRBN', '974_CRBN_VHL', '273_FAK_CRBN', '19_BRD9_VHL', '142_BRD3_CRBN', '1481_KRAS_VHL', '2334_AR_CRBN', '3174_BTK-C481G_CRBN', '719_CDK4_CRBN', '1287_BCL-xL_XIAP', '2747_GSK3A_VHL', '2044_AURKA_CRBN', '543_AURKA_CRBN', '2240_SHP2_CRBN', '222_BTK_cIAP1', '1539_BTK_CRBN', '2563_AKT3_CRBN', '672_CYP1B1_CRBN', '2955_PD-L1_CRBN', '3213_BCL2_VHL', 'b397_FAK_CRBN', '907_ER_VHL', '305_PI3Kalpha_CRBN', '2767_GSK-3beta_CRBN', '1686_PARP1_VHL', 'b344_AKT2_VHL', '3189_EGFR-e19d_CRBN', '2310_AR_CRBN', '165_BRD4_CRBN', '832_ER_VHL', '3233_HDAC6_CRBN', '2754_GSK3A_CRBN', '565_EGFR_CRBN', '2514_AR_CRBN', '1246_PD-L1_CRBN', '2642_SOS1_VHL', '1091_BRAF-V600E_CRBN', '2748_GSK3A_CRBN', '727_HDAC2_CRBN', '596_EGFR-e19d_CRBN', '79_ER_VHL', '1182_HDAC6_VHL', '1784_BRD4_VHL', '797_SMARCA4_VHL', '1580_TRKB_CRBN', '1751_MEK2_CRBN', 'b76_MDM2_CRBN', '1418_c-KIT_CRBN', '1023_BCR-ABL_cIAP1', '2754_GSK-3beta_CRBN', '1074_AR_cIAP1', '1582_TRKB_CRBN', '2604_AKT2_CRBN', '1356_IGF-1R_CRBN', '1731_MEK2_VHL', '1052_ER_cIAP1', 'b71_MDM2_CRBN', 'b22_PD-L1_CRBN', '1470_ER_VHL', 'b254_CDK9_CRBN', '2841_BTK_CRBN', '714_PDEdelta_CRBN', '482_STAT3_CRBN', '2700_BCR-ABL_CRBN', '1239_BTK_CRBN', '1677_PARP1_CRBN', '140_BRD3_CRBN', '2880_FGFR2_VHL', '560_EGFR_CRBN', '2687_BRD4_CRBN', '2766_GSK-3beta_CRBN', '1594_PDEdelta_CRBN', '177_CRBN_VHL', '163_BRD3_CRBN', '143_BRD2_CRBN', '1084_BRAF-V600E_CRBN', '3155_AR_CRBN', '2931_FLT3_CRBN', '97_AR_VHL', '651_BCL-xL_CRBN', '985_Cdc20_VHL', 'b229_ABL_VHL', '2649_BRD4_CRBN', '2683_BRD4_CRBN', '2875_FGFR2_CRBN', '1398_c-Met_CRBN', '2941_FLT3-ITD_CRBN', '2073_BRAF_VHL', '3141_BCR-ABL-T315I_CRBN', '720_CDK6_CRBN', '2432_HDAC1_VHL', '2073_BRAF-G466V_VHL', '2831_BTK-C481S_CRBN', '2559_AKT3_CRBN', 'b155_ABL_cIAP1', 'b351_AKT2_VHL', '403_BCR-ABL_VHL', '611_CDK2_CRBN', '1210_CDK2_CRBN', '395_CDK6_CRBN', '3228_HDAC1_CRBN', '1031_BCR-ABL_cIAP1', '2557_AKT2_VHL', '690_eIF4E_CRBN', 'b327_AKT1_CRBN', 'b13_WDR5_VHL', '355_AR_VHL', '2622_EGFR-L858R-T790M_VHL', '2641_SOS1_VHL', '2377_RIPK2_IAP', '2466_CDK9_CRBN', '162_BRD4_CRBN', '1420_c-KIT_CRBN', '2853_JAK3_CRBN', '2341_BRD2_VHL', 'b366_H-PGDS_CRBN', '135_BRD4_CRBN', '2318_AR_CRBN', '580_EGFR-L858R-T790M_MDM2', '1748_MEK2_CRBN', '1621_BCR-ABL_CRBN', '1154_HDAC6_CRBN', '95_AR_VHL', 'b107_BCL-xL_CRBN', '758_JAK1_XIAP', '195_ERRalpha_VHL', '860_ER_VHL', '2653_BRD2_CRBN', '2770_GSK-3beta_CRBN', '1354_IGF-1R_CRBN', '189_CDK4_CRBN', '1078_AR_cIAP1', 'b355_AKT2_CRBN', '2517_AR_CRBN', '10_BRD9_VHL', '3224_HDAC1_CRBN', '2493_CDK9_CRBN', 'b32_PD-L1_CRBN', '545_MDM2_CRBN', '3063_AR_CRBN', '258_BCL6_CRBN', '503_MCL1_CRBN', '464_BCR-ABL_VHL', '2619_EGFR-L858R-T790M_VHL', '2032_CDK4_VHL', '1476_EGFR-L858R-T790M_CRBN', '2534_ALK_CRBN', '667_BCL-xL_CRBN', '729_HDAC1_VHL', '2025_CDK4_CRBN', '2494_CDK9_CRBN', '1131_HMGCR_CRBN', '2725_HSP90_CRBN', '1729_MEK1_VHL', '380_CDK4_CRBN', '934_EED_VHL', '949_KRAS-G12C_CRBN', '1609_BCR-ABL_CRBN', '3143_BCR-ABL-T315I_CRBN', '2595_AKT2_CRBN', '1319_FKBP12-F36V_CRBN', '1026_BCR-ABL_cIAP1', '2038_CDK4_VHL', '2300_AR_CRBN', '2685_BRD4_CRBN', '2692_BRD4_CRBN', 'b89_ER_VHL', '1198_BRD9_CRBN', '2004_IRAK4_CRBN', '3062_AR_CRBN', '164_BRD3_CRBN', '2474_CDK9_CRBN', '2422_HDAC3_VHL', '242_BTK-C481S_CRBN', '2769_GSK3A_CRBN', '3140_BCR-ABL-T315I_CRBN', 'b2_WDR5_CRBN', '745_CDK4_cIAP1', '269_FAK_VHL', 'b255_CDK9_CRBN', '2118_FAK_CRBN', '770_JAK2_XIAP', 'b177_BTK_CRBN', '367_AR_VHL', '2349_TTK_CRBN', '762_JAK1_VHL', '1268_PD-L1_CRBN', '2568_AKT3_CRBN', '2448_EZH2_VHL', '1769_EZH2_CRBN', '3126_BCR-ABL-T315I_CRBN', '2204_ALK_VHL', '873_ER_VHL', 'b247_FAK_VHL', 'b138_BRD4_VHL', '1251_PD-L1_CRBN', '215_BTK_CRBN', '2468_CDK9_CRBN', '1339_Beta-tubulin_CRBN', '2361_TTK_CRBN', '2564_AKT1_CRBN', '634_BCL-xL_VHL', '3086_BTK_CRBN', '2365_RIPK2_IAP', '2650_BRD3_CRBN', '1192_BRD9_VHL', '383_CDK6_CRBN', '1620_BCR-ABL-E255K_CRBN', '1004_TRKC_MDM2', '239_CDK6_CRBN', '2379_RIPK2_IAP', '2697_BRD4_CRBN', '3227_HDAC3_CRBN', '2568_AKT2_CRBN', '375_CDK4_CRBN', '3003_Wee1_VHL', 'b330_AKT1_CRBN', '458_BCR-ABL_VHL', '337_BRD2_VHL', '1886_AR_VHL', '1200_BRD9_CRBN', '19_BRD7_VHL', '971_CRBN_VHL', '1710_IRAK3_VHL', '1476_EGFR-L858R-T790M-C797S_CRBN', '1616_BCR-ABL_CRBN', 'b80_MDM2_CRBN', '1713_IRAK3_CRBN', '2936_FLT3-ITD-D835V_CRBN', '228_HDAC6_CRBN', '1410_c-KIT_CRBN', '1012_CRBN_VHL', '161_BRD4_CRBN', '2492_CDK9_CRBN', '1413_c-KIT_CRBN', '1286_BCL-xL_XIAP', '607_CDK2_CRBN', '640_BCL-xL_VHL', 'b386_BTK_CRBN', '544_FAK_CRBN', '1_BRD7_VHL', '262_ALK_VHL', '57_ER_CRBN', '1496_SHP2_VHL', '2932_FLT3-ITD-F691L_CRBN', '3220_BCL-xL_VHL', '1776_EZH2_CRBN', '1063_AR_cIAP1', '2431_HDAC3_VHL', '763_JAK1_CRBN', '2074_BRAF-K601E_VHL', '1526_BRD4_CRBN', '1906_GSK-3beta_CRBN', 'b349_AKT2_VHL', '415_CDK6_MDM2', '598_CDK2_CRBN', '3206_LXRA_VHL', '741_CDK4_VHL', 'b82_eIF4E_CRBN', '55_MDM2_VHL', '2322_AR_CRBN', '129_BRD3_CRBN', '851_ER_VHL', '2788_AXL_CRBN', '127_AR_CRBN', '2678_CDK2_CRBN', '606_CDK9_CRBN', '2653_BRD4_CRBN', '1785_BRD4_VHL', '2772_GSK-3beta_CRBN', '1752_MEK1_CRBN', 'b5_WDR5_CRBN', 'b201_GSPT1_CRBN', '2073_BRAF-K601E_VHL', '882_ER_VHL', '2900_BRD4_CRBN', '370_AR_VHL', '1888_AR_VHL', '973_CRBN_VHL', '1759_EZH2_CRBN', '775_JAK2_CRBN', '3121_MDM2_MDM2', '1969_CDK2_CRBN', '82_ER_VHL', '3010_Wee1_CRBN', '609_CDK9_CRBN', '448_MEK1_CRBN', '2244_SHP2_CRBN', '1309_PARP1_CRBN', '2781_AXL_CRBN', '154_BRD4_VHL', '2796_MDM2_CRBN', '1743_MEK2_CRBN', 'b378_ER_VHL', '227_HDAC6_CRBN', '2896_BRD2_CRBN', '1868_AR_CRBN', '283_BTK-C481S_CRBN', '1504_SHP2_VHL', '1579_TRKC_CRBN', '2450_EZH2_VHL', '1447_TBK1_CRBN', '1775_EZH2_CRBN', '976_BTK_CRBN', '390_CDK6_CRBN', '2073_BRAF-V600E_VHL', '21_BRD7_VHL', '1280_BCL-xL_cIAP1', '122_AR_VHL', 'b160_ABL_cIAP1', '49_MDM2_CRBN', '23_BRD9_VHL', '2549_AKT3_VHL', '1819_FAK_CRBN', '1222_BTK-C481S_CRBN', '2439_HDAC3_VHL', '2816_MDM2_CRBN', '1354_Src_CRBN', '1127_HMGCR_CRBN', '2031_CDK6_VHL', '566_EGFR_CRBN', '2961_PD-L1_CRBN', '2598_AKT2_CRBN', 'b23_PD-L1_CRBN', '604_CDK2_CRBN', '702_CDK6_CRBN', '2346_TTK_VHL', '1512_BCR-ABL_CRBN', 'b304_NSD3_CRBN', '320_BCR-ABL_VHL', '1998_EGFR-e19d_CRBN', '1061_ER_XIAP', '2540_HPGDS_CRBN', '109_AR_VHL', '2812_MDM2_CRBN', '3187_BTK_CRBN', '3260_MLLT1_CRBN', '2238_SHP2_CRBN', '1874_AR_CRBN', '1088_BRAF-V600E_CRBN', '1593_PDEdelta_CRBN', '1156_HDAC6_CRBN', '1743_MEK1_CRBN', '1290_PARP1_CRBN', '186_p38alpha_VHL', '106_AR_VHL', '2396_EGFR-L858R-T790M_CRBN', '1862_HDAC3_CRBN', '87_ER_VHL', '1995_EGFR-e19d_VHL', 'b172_BTK_CRBN', '441_MEK1_CRBN', '2753_GSK-3beta_CRBN', '383_CDK4_CRBN', '3154_AR_CRBN', 'b26_PD-L1_CRBN', '2031_CDK4_VHL', '144_BRD2_CRBN', 'b281_CDK9_CRBN', '1895_AR_VHL', 'b353_AKT2_VHL', '2616_EGFR-L858R-T790M_VHL', '2593_AKT1_CRBN', '294_GCN5_CRBN', '2255_CDK12_CRBN', '47_MDM2_CRBN', '1589_AR_VHL', '229_BRD3_VHL', '2834_BTK_CRBN', '1133_HMGCR_CRBN', '2994_SHP2-F285S_CRBN', '857_ER_VHL', '2999_Wee1_VHL', '91_ER_VHL', '599_CDK9_CRBN', '551_MDM2_CRBN', 'b212_AR_CRBN', '2686_BRD4_CRBN', '578_EGFR-L858R-T790M_MDM2', 'b7_WDR5_VHL', '2998_Wee1_VHL', '2945_FLT3_CRBN', '1402_c-Met_CRBN', '128_BRD4_CRBN', '34_BRD9_VHL', '2632_SOS1_VHL', '1741_MEK2_CRBN', 'b220_AR_CRBN', '2203_ALK_VHL', '1472_ER_VHL', '1073_AR_cIAP1', '2804_MDM2_CRBN', '2342_BRD2_VHL', '2582_AKT1_VHL', '1820_FAK_CRBN', '2884_FGFR2_VHL', '2773_AXL_CRBN', 'b320_AKT1_CRBN', '962_CRBN_VHL', '2579_AKT1_VHL', '515_ALK_VHL', '755_JAK2_XIAP', '201_ERRalpha_VHL', '2572_AKT2_CRBN', '1817_FAK_CRBN', '2490_CDK9_CRBN', '2625_EGFR-e19d_VHL', '2570_AKT3_CRBN', '126_AR_CRBN', 'b196_GSPT1_CRBN', '506_MCL1_CRBN', '1833_IDO1_CRBN', '1276_BCL-xL_cIAP1', '920_ER_VHL', '723_HDAC6_CRBN', '831_ER_VHL', '2546_HPGDS_CRBN', '120_AR_VHL', '379_CDK6_CRBN', '2025_CDK6_CRBN', '593_EGFR-L858R_VHL', '2989_KRAS-G12C_CRBN', '149_BRD4_CRBN', '827_ER_VHL', '313_BRD4_VHL', '1477_ALK_CRBN', '92_ER_VHL', '2826_MDM2_CRBN', '1766_EZH2_CRBN', '285_p38delta_CRBN', '429_MEK2_VHL', '379_CDK4_CRBN', '500_MCL1_CRBN', '617_CDK2_CRBN', '2835_BTK-C481S_CRBN', '733_AR_cIAP1', '1124_HMGCR_CRBN', '1222_BTK_CRBN', '1193_BRD9_VHL', '1972_ALK_CRBN', '380_CDK6_CRBN', '1821_FAK_CRBN', '2736_HSP90_MDM2', '3171_AR_CRBN', '2770_GSK3A_CRBN', '129_BRD2_CRBN', '2565_AKT2_CRBN', '728_HDAC2_CRBN', '130_BRD3_CRBN', '351_MCL1_CRBN', 'b272_CDK9_CRBN', '2510_AR_CRBN', '836_ER_CRBN', '2878_FGFR2_VHL', '397_CDK4_CRBN', '1331_Alpha-tubulin_CRBN', '2599_AKT3_CRBN', '2124_ER_CRBN', '1016_CRBN_VHL', '1103_BRAF-V600E_VHL', '815_IRAK4_VHL', '2055_BRAF-V600E_CRBN', '2570_AKT2_CRBN', '2072_CDK2_CRBN', '285_MerTK_CRBN', '1720_MEK2_VHL', '460_BCR-ABL_VHL', '77_ER_VHL', '2009_IRAK4_CRBN', '382_CDK4_CRBN', '2209_ALK_CRBN', '489_STAT3_CRBN', '435_MEK1_VHL', '2941_FLT3_CRBN', '2908_MIF_CRBN', 'b108_CDK2_CRBN', '2605_EGFR-L858R-T790M_VHL', '2340_BRD4_VHL', 'b150_ABL_cIAP1', '655_BCL-xL_CRBN', '603_CDK2_CRBN', 'b136_BRD4_VHL', '948_KRAS-G12C_CRBN', '2656_BRD3_CRBN', '3234_HDAC1_CRBN', '2064_BRAF-V600E_CRBN', '1333_Alpha-tubulin_CRBN', '940_EED_VHL', '2589_AKT3_VHL', 'b77_MDM2_CRBN', '3208_LXRB_VHL', '3263_BRD4_FEM1B', 'b173_BTK_CRBN', '603_CDK9_CRBN', '1870_AR_CRBN', '2423_HDAC3_VHL', '652_BCL-xL_CRBN', 'b195_GSPT1_CRBN', '2995_SHP2-F285S_CRBN', '1333_Beta-tubulin_CRBN', '449_MEK1_CRBN', '1999_EGFR-L858R-T790M_CRBN', '335_BRD2_VHL', '2940_FLT3-ITD-F691L_CRBN', '319_BCR-ABL_CRBN', 'b294_BRD4-BD1_KEAP1', '1195_BRD9_CRBN', '2629_SOS1_VHL', '863_ER_VHL', '2691_BRD4_CRBN', '3212_LXRB_CRBN', '1322_HDAC6_CRBN', '2425_HDAC2_VHL', 'b170_BTK_CRBN', '2456_CDK9_CRBN', 'b28_PD-L1_CRBN', '2420_HDAC1_VHL', '491_STAT3_CRBN', '298_CRBN_CRBN', '3015_Wee1_CRBN', '2609_EGFR-L858R-T790M_VHL', '25_BRD7_VHL', '1053_ER_XIAP', '62_ER_VHL', '2223_ALK_CRBN', '1501_SHP2_VHL', '209_BRD4_VHL', '1260_PD-L1_CRBN', '2313_AR_CRBN', '1726_MEK2_VHL', '70_ER_VHL', '3265_BRD4_FEM1B', '2698_BRD4_CRBN', '1970_ALK_CRBN', '2347_TTK_VHL', '743_CDK6_cIAP1', '992_Cdc20_CRBN', '2473_CDK9_CRBN', '2757_GSK3A_CRBN', '1285_BCL-xL_XIAP', '3222_HDAC1_CRBN', '411_BCR-ABL_VHL', '2822_MDM2_CRBN', '1843_HDAC1_CRBN', '893_ER_VHL', '2643_BRD3_CRBN', '1381_BTK_CRBN', '823_ER_VHL', '1507_SHP2_VHL', '1292_PARP1_CRBN', '3232_HDAC3_CRBN', '134_BRD4_CRBN', '2839_BTK_CRBN', '1723_MEK1_VHL', '2758_GSK-3beta_CRBN', '1382_BTK_CRBN', '3073_JAK2_CRBN', '2634_SOS1_VHL', '152_BRD4_VHL', '1540_EGFR-L858R-T790M_CRBN', '1691_TRKA_CRBN', '731_RAR_cIAP1', '1293_PARP1_CRBN', 'b60_CDK9_CRBN', '1210_CDK7_CRBN', '2443_EZH2_CRBN', 'b216_AR_CRBN', '199_ERRalpha_VHL', '3071_IRAK1_VHL', '1475_EGFR_CRBN', '1087_BRAF-V600E_CRBN', '3065_IRAK1_VHL', '2537_ALK_CRBN', '1654_BRD4_VHL', '514_ALK_VHL', '2548_AKT2_VHL', '350_BRD4_CRBN', '1109_HMGCR_CRBN', '688_eIF4E_CRBN', '83_ER_VHL', '1595_PDEdelta_CRBN', '1584_AR_VHL', '2693_BRD4_CRBN', '1151_MEK1_CRBN', '2006_IRAK4_CRBN', 'b120_AR_CRBN', '2564_AKT3_CRBN', '1050_BRD4_cIAP1', '1048_ER_cIAP1', '3069_IRAK1_VHL', '1369_BTK_CRBN', '938_EED_VHL', '294_PCAF_CRBN', '2934_FLT3_CRBN', 'b61_CDK9_CRBN', 'b118_AR_CRBN', '2650_BRD2_CRBN', '921_ER_VHL', '3259_MLLT1_CRBN', '1270_PD-L1_CRBN', '2133_SMARCA4_VHL', '24_BRD7_VHL', '1666_PARP1_CRBN', '2231_EGFR-e19d_CRBN', '1236_FLT-3_CRBN', 'b119_AR_CRBN', '315_BRD4_VHL', '2818_MDM2_CRBN', '2811_MDM2_CRBN', '1092_BRAF-V600E_CRBN', '1324_HDAC6_CRBN', '2373_RIPK2_IAP', '2075_BRAF-K601E_VHL', 'b248_FAK_VHL', 'b376_STING1_VHL', '2414_EGFR-e19d_VHL', '1612_BCR-ABL_CRBN', '1210_CDK6_CRBN', '1250_PD-L1_CRBN', '1152_MEK2_CRBN', '728_HDAC1_CRBN', '2776_AXL_CRBN', '2560_AKT1_CRBN', '666_BCL-xL_CRBN', '93_ER_VHL', '2904_MIF_CRBN', '207_BTK_CRBN', '2746_GSK-3beta_VHL', 'b241_ER_cIAP1', '1235_FLT-3_CRBN', '963_CRBN_VHL', '197_ERRalpha_VHL', '1719_MEK1_VHL', '969_CRBN_VHL', '413_CDK6_MDM2', '2335_AR_CRBN', '1823_FAK_CRBN', 'b294_BRD3-BD2_KEAP1', '2127_ER_CRBN', '277_EGFR-L858R-T790M_VHL', '368_AR_VHL', '1611_BCR-ABL_CRBN', '3106_SMARCA2_CRBN', '2838_BTK_CRBN', '205_BTK_CRBN', 'b140_BRD2_CRBN', '2724_HSP90_CRBN', '707_CDK6_CRBN', '5_BRD7_DCAF15', '600_CDK9_CRBN', '2765_GSK3A_CRBN', '3110_BRAF-V600E_CRBN', '1914_GSK-3beta_CRBN', '2051_BRAF-V600E_CRBN', '1208_CDK2_CRBN', '626_BCL-xL_VHL', '2586_AKT1_VHL', 'b388_BTK_CRBN', '2433_HDAC3_VHL', '1974_ALK_CRBN', 'b188_ER_VHL', '725_HDAC6_CRBN', '1147_HMGCR_CRBN', 'b297_BRD4-BD2_KEAP1', 'b65_MDM2_CRBN', '2435_HDAC2_VHL', '167_BRD2_CRBN', '1755_MEK2_CRBN', 'b237_BTK_CRBN', '1010_HDAC6_CRBN', '2953_PD-L1_CRBN', '423_CDK6_cIAP1', '654_BCL-xL_CRBN', '2092_BTK_CRBN', '422_CDK6_cIAP1', 'b116_AR_CRBN', '602_CDK2_CRBN', '2883_FGFR2_VHL', '554_MDM2_CRBN', '335_BRD4_VHL', '658_BCL-xL_CRBN', '244_BTK_CRBN', '2897_BRD4_CRBN', '357_AR_VHL', '3257_CDK6_CRBN', '1346_IGF-1R_CRBN', '777_JAK2_VHL', '606_CDK2_CRBN', '668_BCL-xL_CRBN', '2694_BRD4_CRBN', '694_CRABP-II_cIAP1', '581_EGFR_VHL', '1588_AR_VHL', '2594_AKT2_CRBN', '389_CDK4_CRBN', '1627_p38alpha_CRBN', '230_BRD2_VHL', '2097_FKBP12-F36V_VHL', '840_ER_CRBN', '2623_EGFR-L858R-T790M_VHL', '387_CDK4_CRBN', '1735_MEK2_VHL', '2306_AR_CRBN', '2874_FGFR2_CRBN', '547_MDM2_CRBN', '3174_BTK-C481T_CRBN', 'b134_ERK2_CRBN', '1357_NS3_CRBN', '810_IRAK4_VHL', '2074_BRAF-D594N_VHL', '2940_FLT3-ITD-D835V_CRBN', '325_BCR-ABL_CRBN', '3072_IRAK1_VHL', '834_ER_VHL', '2050_BRAF-V600E_CRBN', '3177_BTK_CRBN', '1734_MEK2_VHL', '1007_HDAC6_CRBN', '1240_BTK_CRBN', '427_MEK1_VHL', '166_BRD2_CRBN', '1266_PD-L1_CRBN', '2601_AKT2_CRBN', '1649_BCL-xL_VHL', '2376_RIPK2_IAP', '2360_TTK_CRBN', '1758_MEK1_CRBN', '1212_CDK1_CRBN', '2321_AR_CRBN', '828_ER_VHL', '2612_EGFR-e19d_VHL', '2065_BRAF-V600E_CRBN', 'b356_AKT2_CRBN', '3230_HDAC6_CRBN', 'b64_CDK9_CRBN', '1397_c-Met_CRBN', '437_MEK1_CRBN', 'b390_ALK_CRBN', '2834_BTK-C481S_CRBN', '1380_BTK_CRBN', '636_BCL-xL_VHL', '279_MCL1_CRBN', '1411_c-KIT_CRBN', '937_EED_VHL', '2619_EGFR-e19d_VHL', '1069_AR_cIAP1', '2688_BRD4_CRBN', '1502_SHP2_VHL', 'b310_AKT1_VHL', '3158_AR_CRBN', '1506_SHP2_VHL', '678_eIF4E_CRBN', '251_BTK_CRBN', '125_AR_VHL', '1751_MEK1_CRBN', '1692_TRKA_CRBN', '2836_BTK_CRBN', '695_CRABP-I_cIAP1', '1072_AR_cIAP1', '3266_BRD4_FEM1B', '1209_CDK2_CRBN', '2648_BRD3_CRBN', '2422_HDAC1_VHL', '378_CDK6_CRBN', '2484_CDK9_CRBN', '1178_HDAC6_VHL', '2536_ALK_CRBN', '1989_ALK_CRBN', '761_JAK1_XIAP', '132_BRD3_CRBN', '578_EGFR_MDM2', '40_MDM2_CRBN', '1355_IGF-1R_CRBN', '1143_HMGCR_CRBN', '625_BCL-xL_VHL', 'b340_AKT2_VHL', '1532_FKBP12_CRBN', '424_CDK4_CRBN', '318_BCR-ABL_CRBN', '2506_AR_CRBN', '1548_EGFR-L858R-T790M_CRBN', '2867_EGFR-e19d_VHL', '745_CDK6_cIAP1', '157_BRD2_CRBN', '270_FAK_VHL', 'b56_CDK9_CRBN', 'b171_BTK_CRBN', 'b279_CDK9_CRBN', '2713_BCR-ABL_CRBN', '711_CDK6_CRBN', '1859_HDAC3_CRBN', '1656_FAK_VHL', '1454_IRAK4_CRBN', '1341_Alpha-tubulin_CRBN', '182_p38alpha_VHL', '3229_HDAC1_CRBN', '356_AR_VHL', '635_BCL-xL_VHL', 'b134_ERK1_CRBN', 'b262_CDK9_CRBN', '1658_KRAS-G12C_VHL', '303_CDK9_CRBN', 'b364_AKT2_CRBN', '3132_BCR-ABL-T315I_CRBN', '2768_GSK-3beta_CRBN', '485_STAT3_CRBN', '2388_BCL-xL_VHL', '3190_HDAC8_CRBN', '1786_BRD4_VHL', '1673_PARP1_CRBN', '686_eIF4E_CRBN', 'b287_CDK9_CRBN', '2618_EGFR-L858R-T790M_VHL', '3209_LXRA_VHL', '1660_KRAS-G12C_VHL', '3153_CDK4_CRBN', '1837_SHP2_CRBN', '1738_MEK2_CRBN', '1075_AR_cIAP1', '544_RPS6KA1_CRBN', '1663_PARP1_CRBN', '2220_ALK_CRBN', '2317_AR_CRBN', '1261_PD-L1_CRBN', '2831_BTK_CRBN', 'b343_AKT2_VHL', '1876_AR_CRBN', '1095_BRAF-V600E_CRBN', '1216_BRD4_CRBN', '1813_FAK_CRBN', '2434_HDAC2_VHL', '1653_BRD4_VHL', '1304_PARP1_CRBN', '2080_BTK_CRBN', '1999_EGFR-e19d_CRBN', '2960_PD-L1_CRBN', '342_BRD3_CRBN', '767_JAK2_XIAP', '2542_HPGDS_CRBN', '365_AR_VHL', 'b341_AKT2_VHL', '330_BRD3_CRBN', '2637_SOS1_VHL', '3248_WDR5_CRBN', '3175_BTK_CRBN', '2604_AKT1_CRBN', '130_BRD4_CRBN', '135_BRD3_CRBN', '260_ALK_VHL', '957_KRAS-G12C_CRBN', '1599_PDEdelta_CRBN', '2015_HDAC3_VHL', '601_CDK9_CRBN', '2911_MIF_CRBN', '498_MCL1_CRBN', '1101_BRAF-V600E_VHL', 'b382_BRD4_CRBN', '2614_EGFR-L858R-T790M_VHL', '3226_HDAC1_CRBN', '1590_AR_VHL', '616_CDK2_CRBN', '166_BRD4_CRBN', '2555_AKT1_VHL', '1277_BCL-xL_cIAP1', '1535_BRD4_VHL', '1371_BTK_CRBN', '2591_AKT2_VHL', '1947_VEGFR-2_VHL', 'b140_BRD4_CRBN', '523_ALK_VHL', '647_BCL-xL_CRBN', '1756_MEK1_CRBN', '2608_EGFR-L858R-T790M_VHL', '1628_p38alpha_CRBN', '2565_AKT1_CRBN', '1881_AR_CRBN', '2584_AKT3_VHL', '453_MEK1_CRBN', '56_MDM2_VHL', '774_JAK2_VHL', '292_CDK9_CRBN', '891_ER_VHL', '2607_EGFR-e19d_VHL', '3077_JAK2_CRBN', '1415_c-KIT_CRBN', '2286_WDR5_VHL', 'b392_HDAC8_CRBN', '1746_MEK1_CRBN', '2060_BRAF-V600E_CRBN', '3223_HDAC1_CRBN', '633_BCL-xL_VHL', 'b207_AR_CRBN', '46_MDM2_CRBN', '1255_PD-L1_CRBN', '3091_BTK_CRBN', 'b311_AKT1_VHL', '1581_TRKA_CRBN', '391_CDK4_CRBN', '2578_AKT2_VHL', '2589_AKT1_VHL', '336_BRD3_VHL', '3144_HMGCR_CRBN', '2086_BTK_CRBN', '691_eIF4E_VHL', '311_BRD4_VHL', '2215_ALK_CRBN', 'b181_HDAC3_CRBN', '1247_PD-L1_CRBN', '605_CDK9_CRBN', '2302_AR_CRBN', '1419_c-KIT_CRBN', '310_BRD4_VHL', '760_JAK2_CRBN', '833_ER_VHL', '2703_BCR-ABL_CRBN', '507_BCL2_CRBN', '1831_IDO1_CRBN', '439_MEK1_CRBN', '2589_AKT2_VHL', '1687_PARP1_VHL', '3014_Wee1_CRBN', '362_AR_VHL', '2827_MDM2_CRBN', '3180_BTK_CRBN', '2914_MIF_CRBN', '872_ER_VHL', '1013_CRBN_VHL', '1323_HDAC6_CRBN', 'b230_ABL_CRBN', '2002_EGFR-L858R-T790M_VHL', '1996_EGFR-L858R-T790M_VHL', '1892_AR_VHL', 'b11_WDR5_VHL', '2336_AR_CRBN', '843_ER_CRBN', '2119_ER_CRBN', '480_STAT3_CRBN', '2603_AKT3_CRBN', '1338_Beta-tubulin_CRBN', '477_STAT3_CRBN', '2714_BCR-ABL_CRBN', '2553_AKT2_VHL', '2643_BRD2_CRBN', '670_BCL-xL_CRBN', '742_CDK4_VHL', '2587_AKT1_VHL', '2792_AXL_CRBN', '757_JAK2_CRBN', '2567_AKT3_CRBN', '2582_AKT3_VHL', '2477_CDK9_CRBN', '230_BRD3_VHL', '3211_LXRB_CRBN', '2615_EGFR-L858R-T790M_VHL', '1138_HMGCR_CRBN', 'b49_CDK9_CRBN', 'b308_NSD3_VHL', '2339_BRD3_VHL', '1100_BRAF-V600E_VHL', '1992_ALK_CRBN', '994_Cdc20_CRBN', '333_ERRalpha_VHL', '1740_MEK2_CRBN', '2233_SHP2_CRBN', '3124_MDM2_MDM2', '2737_HSP90_MDM2', '2005_IRAK4_CRBN', '591_EGFR-e19d_VHL', '1445_BRD4_CRBN', '2938_FLT3-ITD-D835V_CRBN', 'b280_CDK9_CRBN', '1223_BTK-C481S_CRBN', '1009_HDAC6_CRBN', '388_CDK4_CRBN', '2533_ALK_CRBN', '1206_CDK2_CRBN', '2778_AXL_CRBN', '2611_EGFR-e19d_VHL', '2481_CDK9_CRBN', '734_CRABP-II_cIAP1', '769_JAK2_CRBN', '2210_ALK_CRBN', '1871_AR_CRBN', '502_BCL2_CRBN', '943_KRAS-G12C_CRBN', '2465_CDK9_CRBN', '2294_WDR5_VHL', '2228_EGFR-L858R-T790M_CRBN', '2786_AXL_CRBN', '2428_HDAC2_VHL', '2429_HDAC1_VHL', '467_BCR-ABL_VHL', '2227_EGFR-L858R-T790M_CRBN', '3070_IRAK1_VHL', '2508_AR_CRBN', '3105_SMARCA2_CRBN', '2358_TTK_CRBN', 'b337_AKT2_VHL', '1258_PD-L1_CRBN', '2024_CDK4_CRBN', '979_RIPK2_cIAP1', '160_BRD2_CRBN', '880_ER_VHL', '2571_AKT1_CRBN', '1587_AR_VHL', 'b269_CDK9_CRBN', '1764_EZH2_CRBN', '2712_BCR-ABL_CRBN', '3228_HDAC6_CRBN', '776_JAK1_XIAP', '3129_BCR-ABL-T315I_VHL', '901_ER_VHL', '3186_BTK_CRBN', '1810_FAK_CRBN', '850_ER_VHL', '2266_FLT3-ITD_CRBN', '1689_TRKA_CRBN', '2575_AKT3_VHL', '426_CDK4_CRBN', '363_AR_VHL', '2525_AR-T878A_CRBN', 'b271_CDK9_CRBN', '2071_CDK2_CRBN', '749_BCR-ABL_cIAP1', 'b93_ER_IAP', '1421_c-KIT_CRBN', 'b181_HDAC1_CRBN', '3054_AR_CRBN', '400_BCR-ABL_VHL', '1826_SIRT2_CRBN', '3255_WDR5_VHL', '1001_VHL_VHL', '3116_MDM2_MDM2', '296_CRBN_CRBN', '2028_CDK4_CRBN', '1188_BRD9_CRBN', '3224_HDAC6_CRBN', '2577_AKT2_VHL', '2569_AKT1_CRBN', '2412_EGFR-e19d_VHL', '796_PBRM1_VHL', '1253_PD-L1_CRBN', '1409_c-KIT_CRBN', '1761_EZH2_CRBN', '3012_Wee1_CRBN', '2848_JAK3_CRBN', '947_KRAS-G12C_CRBN', '1491_SHP2_VHL', '915_ER_VHL', '2100_PARP1_CRBN', '2596_AKT1_CRBN', '1740_MEK1_CRBN', '354_AR_VHL', '577_EGFR_VHL', '2835_BTK_CRBN', '1257_PD-L1_CRBN', '202_ERRalpha_VHL', '2600_AKT2_CRBN', '1051_ER_cIAP1', '709_CDK4_CRBN', '756_JAK1_VHL', '1142_HMGCR_CRBN', 'b84_eIF4E_CRBN', '141_BRD4_CRBN', '1097_BRAF-V600E_CRBN', '2854_JAK2_CRBN', '753_BTK_CRBN', '581_EGFR-L858R-T790M_VHL', '2436_HDAC1_VHL', 'b190_ER_VHL', '2701_BCR-ABL_CRBN', '1997_EGFR_CRBN', '1889_AR_VHL', '13_BRD9_VHL', 'b242_ER_cIAP1', '22_BRD7_VHL', '2401_ALK_CRBN', '462_BCR-ABL_VHL', '1760_EZH2_CRBN', '1303_PARP1_VHL', '2900_BRD2_CRBN', '2648_BRD4_CRBN', '553_MDM2_CRBN', '942_AKT2_CRBN', '2423_HDAC1_VHL', '2840_BTK_CRBN', 'b394_HDAC8_CRBN', '2763_GSK3A_CRBN', '737_BRD4_CRBN', '1753_MEK1_CRBN', '2912_MIF_CRBN', '3236_HSF1_CRBN', '1020_BCR-ABL_cIAP1', '2764_GSK-3beta_CRBN', '1157_HDAC6_CRBN', '124_AR_VHL', '108_AR_VHL', '504_MCL1_CRBN', '465_BCR-ABL_VHL', '2261_FLT3-ITD_CRBN', '2871_FGFR2_CRBN', '2093_BTK_CRBN', 'b86_eIF4E_CRBN', 'b312_AKT1_VHL', 'b3_WDR5_CRBN', '249_BTK_MDM2', '150_BRD4_CRBN', '141_BRD3_CRBN', '2558_AKT2_VHL', '395_CDK4_CRBN', '2645_BRD3_CRBN', '877_ER_VHL', '98_AR_VHL', '3238_WDR5_VHL', '721_CDK4_CRBN', '2932_FLT3_CRBN', '2876_FGFR2_CRBN', '1980_ALK_CRBN', '1478_ALK_VHL', 'b200_GSPT1_CRBN', '2000_EGFR-L858R-T790M_VHL', 'b363_AKT2_CRBN', '203_ERRalpha_VHL', '736_BRD4_CRBN', '2522_AR_CRBN', '17_BRD7_VHL', 'b33_PD-L1_CRBN', '2420_HDAC2_VHL', '2211_ALK_CRBN', '1722_MEK2_VHL', '183_p38delta_VHL', '2837_BTK-C481S_CRBN', '1464_IRAK4_CRBN', '2559_AKT2_CRBN', '1707_IRAK3_VHL', '778_JAK1_CRBN', '2814_MDM2_CRBN', '2267_FLT3-ITD_CRBN', '155_BRD4_VHL', 'b277_CDK9_CRBN', '2557_AKT3_VHL', '1125_HMGCR_CRBN', '2343_BRD3_VHL', '904_ER_VHL', '2815_MDM2_CRBN', '1456_IRAK4_CRBN', '1399_c-Met_CRBN', '1908_GSK-3beta_CRBN', '221_BTK_cIAP1', 'b75_MDM2_CRBN', '2028_CDK6_CRBN', '161_BRD3_CRBN', '1190_BRD9_CRBN', '136_BRD3_CRBN', '2797_MDM2_CRBN', 'b307_NSD3_VHL', '2417_EGFR_VHL', '198_ERRalpha_VHL', '293_CDK9_CRBN', '1750_MEK1_CRBN', '585_EGFR-L858R-T790M_VHL', '764_JAK1_XIAP', '2755_GSK-3beta_CRBN', '1739_MEK1_CRBN', 'b36_PD-L1_CRBN', '457_BCR-ABL_VHL', '2832_BTK-C481S_CRBN', '2273_FLT3-ITD_CRBN', '2527_AR_CRBN', '2415_EGFR-e19d_VHL', '774_JAK1_VHL', '2206_ALK_CRBN', '909_ER_VHL', '15_BRD9_VHL', '2794_MDM2_CRBN', '818_BRD4_CRBN', '2016_HDAC3_VHL', '798_SMARCA4_VHL', '390_CDK4_CRBN', '194_BRD4_CRBN', '396_CDK4_CRBN', 'b63_CDK9_CRBN', '451_MEK1_CRBN', 'b236_BTK_CRBN', '993_Cdc20_CRBN', '2083_BTK_CRBN', '1878_AR_CRBN', '187_p38delta_VHL', '1351_Src_CRBN', '1254_PD-L1_CRBN', '1633_p38alpha_CRBN', '2426_HDAC1_VHL', '2567_AKT2_CRBN', '2575_AKT2_VHL', 'b259_CDK9_CRBN', '1617_BCR-ABL_CRBN', '1335_Alpha-tubulin_CRBN', '2574_AKT3_CRBN', '1405_c-Met_CRBN', '2217_ALK_CRBN', 'b253_CDK9_CRBN', '1996_EGFR_VHL', '2771_GSK3A_CRBN', '2843_HDAC6_CRBN', '2937_FLT3-ITD-F691L_CRBN', '1693_TRKB_CRBN', '590_EGFR-e19d_VHL', '239_CDK4_CRBN', '1580_TRKA_CRBN', '3184_BTK_CRBN', '2040_CDK6_MDM2', '1459_IRAK4_CRBN', '1139_HMGCR_CRBN', '2817_MDM2_CRBN', '1694_TRKA_CRBN', '342_BRD4_CRBN', '162_BRD2_CRBN', '961_BCR-ABL_VHL', '2933_FLT3-ITD_CRBN', '2475_CDK9_CRBN', '847_ER_VHL', '410_BCR-ABL_VHL', '621_BCL-xL_VHL', '2432_HDAC2_VHL', '157_BRD4_CRBN', '677_eIF4E_CRBN', '2496_AR_CRBN', '2012_HDAC3_CRBN', '1973_ALK_CRBN', '265_FAK_VHL', '1204_CDK2_CRBN', '208_BRD4_MDM2', '1581_TRKB_CRBN', '1669_PARP1_CRBN', '573_EGFR_cIAP1', '446_MEK1_CRBN', '2056_BRAF-V600E_CRBN', '2580_AKT2_VHL', '2943_FLT3_CRBN', '2709_BCR-ABL_CRBN', '1721_MEK1_VHL', '3214_BCL2_VHL', '232_BRD4_CRBN', '6_BRD7_DCAF15', '1337_Beta-tubulin_CRBN', '2734_HSP90_MDM2', '2945_FLT3-ITD_CRBN', '2544_HPGDS_CRBN', '165_BRD3_CRBN', '2396_ALK-G1202R_CRBN', '2575_AKT1_VHL', '2833_BTK_CRBN', '1893_AR_VHL', '2402_EGFR-e19d_CRBN', 'b350_AKT2_VHL', '2749_GSK3A_CRBN', 'b78_MDM2_CRBN', '2718_BCR-ABL_CRBN', '2830_BTK_CRBN', '1338_Alpha-tubulin_CRBN', '1264_PD-L1_CRBN', '1064_AR_cIAP1', '2944_FLT3-ITD-D835V_CRBN', '3229_HDAC6_CRBN', '1039_ER_cIAP1', '3058_AR_CRBN', 'b46_CDK9_CRBN', '2068_BTK_cIAP1', '2750_GSK3A_CRBN', '1210_CDK4_CRBN', '2245_SHP2_CRBN', '2409_EGFR-e19d_CRBN', '386_CDK4_CRBN', '2581_AKT2_VHL', '2526_AR_CRBN', '1975_ALK_CRBN', '841_ER_CRBN', 'b313_AKT1_VHL', '2952_MDM2_CRBN', '2879_FGFR2_VHL', '1153_MEK2_VHL', '2751_GSK3A_CRBN', '2430_HDAC1_VHL', '1652_BRD2_VHL', '693_eIF4E_VHL', '1731_MEK1_VHL', '331_FKBP12_CRBN', '2122_ER_CRBN', '798_SMARCA2_VHL', '1391_BTK_VHL', '2441_HDAC2_VHL', '1576_TRKC_CRBN', '2601_AKT1_CRBN', '23_BRD7_VHL', '185_p38delta_VHL', '739_BRD4_CRBN', '673_CYP1B1_CRBN', '1771_EZH2_CRBN', '1149_MEK2_VHL', '2048_BRAF-V600E_CRBN', '1014_CRBN_VHL', 'b251_CDK9_CRBN', '1000_VHL_VHL', 'b285_CDK9_CRBN', '255_AR_VHL', '1352_IGF-1R_CRBN', '2117_FAK_CRBN', '582_EGFR-L858R-T790M_VHL', '1822_FAK_CRBN', 'b169_HPK1_CRBN', '1314_PARP1_CRBN', '2857_JAK3_CRBN', '2690_BRD4_CRBN', '765_JAK2_VHL', '659_BCL-xL_CRBN', '2932_FLT3-ITD_CRBN', '1779_PRMT5_VHL', '2303_AR_CRBN', '2579_AKT2_VHL', '2878_FGFR1_VHL', '2930_FLT3-ITD-D835V_CRBN', '2075_BRAF_VHL', '1647_p38alpha_CRBN', '575_EGFR_MDM2', '1736_MEK2_VHL', '1541_EGFR-L858R-T790M_CRBN', '2727_HSP90_CRBN', '2623_EGFR-e19d_VHL', 'b48_CDK9_CRBN', '773_JAK2_XIAP', '3103_SMARCA2_CRBN', '2739_CDK12_CRBN', '58_ER_CRBN', '1150_MEK2_VHL', '1829_IDO1_CRBN', '323_BCR-ABL_VHL', '2787_AXL_CRBN', '2930_FLT3-ITD-F691L_CRBN', '679_eIF4E_CRBN', '2559_AKT1_CRBN', '100_AR_VHL', '1993_EGFR-e19d_CRBN', '1883_AR_CRBN', '119_AR_VHL', '568_EGFR_VHL', '582_EGFR_VHL', '543_FAK_CRBN', '1746_MEK2_CRBN', '206_BTK_CRBN', '1019_BCR-ABL_cIAP1', '598_CDK9_CRBN', '164_BRD4_CRBN', 'b316_AKT1_VHL', '2801_MDM2_CRBN', '742_CDK6_VHL', '1186_HDAC6_VHL', '2436_HDAC3_VHL', '1693_TRKA_CRBN', '1113_HMGCR_CRBN', 'b137_BRD4_VHL', 'b192_MDM2_CRBN', '1843_HDAC6_CRBN', '2501_AR_CRBN', '393_CDK4_CRBN', '702_CDK4_CRBN', '278_EGFR_VHL', '2396_PTK6_CRBN', '2131_SMARCA2_VHL', '2892_FAK_VHL', '1377_CDK8_CRBN', '1059_ER_XIAP', '3251_WDR5_VHL', '38_MDM2_CRBN', '2648_BRD2_CRBN', '2895_BRD4_CRBN', '2964_PD-L1_CRBN', '2965_PD-L1_CRBN', '2236_SHP2_CRBN', '2495_AR_CRBN', '2606_EGFR-L858R-T790M_VHL', '939_EED_VHL', '1348_IGF-1R_CRBN', '2027_CDK4_CRBN', '1042_ER_cIAP1', '2942_FLT3-ITD_CRBN', '1680_PARP1_CRBN', '2644_BRD4_CRBN', '1524_BRD4_CRBN', '487_STAT3_CRBN', '2429_HDAC3_VHL', '2451_EZH2_VHL', '1671_PARP1_CRBN', '288_CDK9_CRBN', '1106_BRAF-V600E_VHL', '213_BTK_CRBN', '417_CDK6_VHL', '1877_AR_CRBN', '1473_EGFR-L858R-T790M_CRBN', '2569_AKT3_CRBN', '443_MEK1_CRBN', '3233_HDAC1_CRBN', '803_CDK9_CRBN', '1130_HMGCR_CRBN', '88_ER_VHL', '3059_AR_CRBN', 'b166_HPK1_CRBN', '2784_AXL_CRBN', '404_BCR-ABL_CRBN', '2587_AKT3_VHL', '28_BRD9_VHL', '498_BCL2_CRBN', '2806_MDM2_CRBN', '1077_AR_cIAP1', '572_EGFR-L858R-T790M_CRBN', '1537_BTK_CRBN', '842_ER_CRBN', '2419_HDAC1_VHL', 'b191_ER_VHL', '713_PDEdelta_CRBN', '3207_LXRB_VHL', '2032_CDK6_VHL', '9_BRD9_VHL', '609_CDK2_CRBN', '2574_AKT2_CRBN', '2707_BCR-ABL_CRBN', '2741_CDK12_CRBN', '572_EGFR_CRBN', '371_AR_VHL', '180_CRBN_VHL', '1234_FLT-3_CRBN', '2555_AKT2_VHL', '906_ER_VHL', '770_JAK1_XIAP', '573_EGFR-L858R-T790M_cIAP1', '1339_Alpha-tubulin_CRBN', '1885_AR_CRBN', '1315_PARP1_CRBN', '99_AR_VHL', '1137_HMGCR_CRBN', '763_JAK2_CRBN', 'b371_H-PGDS_CRBN', '2603_AKT2_CRBN', '3172_AR_CRBN', '430_MEK1_VHL', 'b39_PD-L1_CRBN', '2075_BRAF-G469A_VHL', '81_ER_VHL', '1183_HDAC6_VHL', '1788_BRD4_VHL', '1165_HDAC6_CRBN', '1747_MEK2_CRBN', 'b234_BTK_CRBN', '2395_ALK_CRBN', '2355_TTK_CRBN', '1144_HMGCR_CRBN', '2745_GSK-3beta_CRBN', '2590_AKT2_VHL', '1755_MEK1_CRBN', '2445_EZH2_CRBN', '134_BRD3_CRBN', '2008_IRAK4_CRBN', '2564_AKT2_CRBN', '1697_TRKA_CRBN', 'b213_AR_CRBN', '2120_ER_CRBN', '1340_Beta-tubulin_CRBN', '543_RPS6KA1_CRBN', '2650_BRD4_CRBN', '3128_BCR-ABL-T315I_CRBN', '615_CDK2_CRBN', '687_eIF4E_CRBN', '3178_BTK_CRBN', '662_BCL-xL_CRBN', '764_JAK2_XIAP', 'b361_AKT2_CRBN', '1716_IRAK3_CRBN', '1049_ER_cIAP1', '2426_HDAC2_VHL', '2583_AKT2_VHL', 'b110_CDK2_CRBN', '2440_HDAC2_VHL', '52_MDM2_CRBN', '2307_AR_CRBN', '766_JAK2_CRBN', '2371_RIPK2_IAP', '2516_AR_CRBN', '2383_BCL-xL_VHL', '2793_MDM2_CRBN', '455_MEK1_CRBN', '3215_BCL2_VHL', '1058_ER_cIAP1', '1688_PARP1_VHL', '2907_MIF_CRBN', '1503_SHP2_VHL', '504_BCL2_CRBN', '1634_p38alpha_CRBN', '2606_EGFR-e19d_VHL', '136_BRD2_CRBN', 'b215_AR_CRBN', '158_BRD2_CRBN', '2478_CDK9_CRBN', '1802_IRAK4_CRBN', '1635_p38alpha_CRBN', '2655_BRD3_CRBN', '2427_HDAC3_VHL', '1752_MEK2_CRBN', '913_ER_VHL', '131_BRD4_CRBN', '641_BCL-xL_VHL', '945_KRAS-G12C_CRBN', '2538_ALK_CRBN', '768_JAK2_VHL', '1601_PDEdelta_CRBN', '2655_BRD4_CRBN', '2251_CDK12-C1039F_CRBN', '644_BCL-xL_CRBN', '1263_PD-L1_CRBN', '2785_AXL_CRBN', '2551_AKT2_VHL', '1803_IRAK4_CRBN', '3112_BRAF-V600E_CRBN', '2597_AKT3_CRBN', '1453_IRAK4_CRBN', '3174_BTK_CRBN', '1417_c-KIT_CRBN', '2928_FLT3-ITD-F691L_CRBN', '1025_BCR-ABL_cIAP1', 'b20_WDR5_VHL', '2218_ALK_CRBN', '1909_GSK-3beta_CRBN', '233_BRD4_CRBN', '2386_BCL-xL_VHL', '2260_FLT3-ITD_CRBN', '3074_JAK2_CRBN', '2809_MDM2_CRBN', '1341_Beta-tubulin_CRBN', '2684_BRD4_CRBN', '623_BCL-xL_VHL', '3102_SMARCA2_CRBN', '2913_MIF_CRBN', '2735_HSP90_MDM2', '2837_BTK_CRBN', '728_HDAC3_CRBN', '1431_AR_VHL', '3179_BTK_CRBN', '1221_BRD4_CRBN', '1360_BCL-xL_CRBN', 'b368_H-PGDS_CRBN', '583_EGFR_VHL', '1726_MEK1_VHL', '181_p38alpha_VHL', '1181_HDAC6_VHL', '1210_CDK5_CRBN', '2058_BRAF-V600E_VHL', '1655_FAK_CRBN', 'b16_WDR5_VHL', '845_ER_CRBN', '2074_BRAF-G466E_VHL', 'b1_WDR5_CRBN', '1653_BRD3_VHL', '1194_BRD9_CRBN', '2416_EGFR-e19d_VHL', '903_ER_VHL', '2226_ALK_CRBN', '2842_BTK_CRBN', '660_BCL-xL_CRBN', '2940_FLT3_CRBN', 'b256_CDK9_CRBN', '2531_AR_CRBN', '497_STAT3_CRBN', '50_MDM2_CRBN', '1119_HMGCR_CRBN', '1643_p38alpha_CRBN', '776_JAK2_XIAP', '2847_HDAC6_CRBN', '2867_EGFR-L858R-T790M_VHL', '2404_EGFR-e19d_CRBN', '484_STAT3_CRBN', '2935_FLT3-ITD_CRBN', '1148_MEK1_VHL', '3226_HDAC6_CRBN', '2893_BRD4_CRBN', '1218_EGFR_CRBN', '3002_Wee1_VHL', '3243_WDR5_VHL', '2491_CDK9_CRBN', '1372_BTK_CRBN', '869_ER_VHL', '2930_FLT3-ITD_CRBN', '1665_PARP1_CRBN', '343_BRD4_CRBN', '2760_GSK-3beta_CRBN', '27_BRD9_VHL', 'b8_WDR5_VHL', '576_EGFR-L858R-T790M_VHL', '1546_EGFR-L858R-T790M_CRBN', '20_BRD9_VHL', '898_ER_VHL', '2942_FLT3-ITD-F691L_CRBN', 'b87_eIF4E_CRBN', 'b167_HPK1_CRBN', 'b369_H-PGDS_CRBN', '709_CDK6_CRBN', '1768_EZH2_CRBN', '2524_AR_CRBN', '874_ER_VHL', '2592_AKT1_VHL', 'b357_AKT2_CRBN', '1288_BCL-xL_XIAP', '454_MEK1_CRBN', '772_JAK1_CRBN', '1976_ALK_CRBN', '2505_AR_CRBN', '1579_TRKB_CRBN', '330_BRD2_CRBN', '3182_BTK_CRBN', '3064_AR_CRBN', '424_CDK6_CRBN', '3011_Wee1_CRBN', 'b161_ABL_CRBN', '1620_BCR-ABL_CRBN', '230_BRD4_VHL', '3258_SMARCA4_VHL', '1406_c-Met_CRBN', '1223_BTK_CRBN', '2939_FLT3-ITD-F691L_CRBN', '2856_JAK3_CRBN', '1780_PRMT5_VHL', '960_BCR-ABL_VHL', '2931_FLT3-ITD_CRBN', '2612_EGFR-L858R-T790M_VHL', '1412_c-KIT_CRBN', '295_PCAF_CRBN', '1294_PARP1_CRBN', '1861_HDAC2_CRBN', '890_ER_VHL', '3083_BTK_CRBN', '1022_BCR-ABL_cIAP1', 'b37_PD-L1_CRBN', '2421_HDAC2_VHL', '614_CDK2_CRBN', '360_AR_VHL', '2621_EGFR-L858R-T790M_VHL', '772_JAK2_CRBN', '2021_CDK6_CRBN', '965_CRBN_VHL', '1795_BRD4_VHL', '941_EED_VHL', '1297_PARP1_CRBN', '2222_ALK-G1202R_CRBN', '2329_AR_CRBN', '29_BRD9_VHL', '248_BTK_MDM2', '2777_AXL_CRBN', 'b326_AKT1_CRBN', '138_BRD3_CRBN', '2828_MDM2_CRBN', '638_BCL-xL_VHL', '1214_BRD4_CRBN', '2943_FLT3-ITD_CRBN', '1219_EGFR_CRBN', '2367_RIPK2_IAP', '610_CDK2_CRBN', '1511_BCR-ABL_CRBN', '1128_HMGCR_CRBN', '176_CRBN_VHL', '1040_BRD4_cIAP1', '2134_SMARCA2_VHL', '1237_FLT-3_CRBN', '766_JAK1_CRBN', '826_ER_VHL', '420_CDK6_cIAP1', '2967_PD-L1_CRBN', '3085_BTK_CRBN', 'b336_AKT2_VHL', '501_MCL1_CRBN', '2268_FLT3-ITD_CRBN', '2730_HSP90_MDM2', '2026_CDK4_CRBN', '2408_EGFR-e19d_CRBN', '2611_EGFR-L858R-T790M_VHL', '1306_PARP1_CRBN', '1711_IRAK3_CRBN', '2470_CDK9_CRBN', '946_KRAS-G12C_CRBN', '1307_PARP1_CRBN', '2328_AR_CRBN', 'b125_BRD2_VHL', '777_JAK1_VHL', 'b187_ER_VHL', '1767_EZH2_CRBN', '2476_CDK9_CRBN', 'b69_MDM2_CRBN', '486_STAT3_CRBN', '513_ALK_VHL', '3088_BTK_CRBN', '2419_HDAC2_VHL', '523_ALK-G1202R_VHL', '402_BCR-ABL_VHL', '2891_FAK_VHL', '1111_HMGCR_CRBN', '2390_BCL-xL_VHL', '2338_BRD4_VHL', '1462_IRAK4_CRBN', '1615_BCR-ABL_CRBN', 'b391_GPX4_CRBN', '2131_SMARCA4_VHL', '2324_AR_CRBN', '2576_AKT3_VHL', '14_BRD7_VHL', '2133_SMARCA2_VHL', '2043_AURKA_CRBN', '186_p38delta_VHL', '2091_BTK_CRBN', '2898_BRD4_CRBN', '861_ER_VHL', '2929_FLT3-ITD-D835V_CRBN', '1232_FLT-3_CRBN', '809_IRAK4_VHL', '2779_AXL_CRBN', '86_ER_VHL', '2894_BRD2_CRBN', '2320_AR_CRBN', '1328_HDAC6_CRBN', '889_ER_VHL', '2855_JAK3_CRBN', '340_BRD4_CRBN', '2657_BRD4_CRBN', '2762_GSK-3beta_CRBN', '866_ER_VHL', '3094_BTK_CRBN', '291_CDK9_CRBN', '3080_JAK2_CRBN', '1578_TRKA_CRBN', '1943_VEGFR-2_VHL', '2556_AKT1_VHL', '90_ER_VHL', '2573_AKT1_CRBN', '760_JAK1_CRBN', '2895_BRD2_CRBN', '1684_PARP1_CRBN', '2944_FLT3-ITD_CRBN', '2706_BCR-ABL_CRBN', '1806_FAK_CRBN', '1918_GSK-3beta_CRBN', '741_CDK6_VHL', 'b214_AR_CRBN', '2790_AXL_CRBN', '3234_HDAC3_CRBN', '3217_BCL-xL_VHL', '1312_PARP1_CRBN', '559_EGFR_CRBN', 'b243_BTK_XIAP', '256_AR_VHL', '718_BCL-xL_CRBN', '1129_HMGCR_CRBN', 'b175_BTK_CRBN', '771_JAK2_VHL', '2459_CDK9_CRBN', '1700_IRAK3_VHL', '1774_EZH2_CRBN', '558_MDM2_CRBN', '1583_TRKB_CRBN', '1797_BRD4_VHL', '1551_EGFR-L858R-T790M_CRBN', '2548_AKT3_VHL', '2222_ALK_CRBN', '887_ER_VHL', '2029_CDK6_VHL', '2073_BRAF-G466E_VHL', '2772_GSK3A_CRBN', '1787_BRD4_VHL', 'b55_CDK9_CRBN', '614_CDK9_CRBN', 'b231_ABL_IAP', '1068_AR_cIAP1', '2132_SMARCA4_VHL', '2243_SHP2_CRBN', 'b362_AKT2_CRBN', '3134_BCR-ABL-T315I_CRBN', '284_BTK_CRBN', '1342_Alpha-tubulin_CRBN', '1586_AR_VHL', '1873_AR_CRBN', 'b70_MDM2_CRBN', '382_CDK6_CRBN', '1639_p38alpha_CRBN', '2101_PARP1_CRBN', 'b163_ABL_CRBN', '2441_HDAC1_VHL', '855_ER_VHL', '261_ALK_VHL', '2928_FLT3-ITD-D835V_CRBN', '1310_PARP1_CRBN', '481_STAT3_CRBN', '900_ER_VHL', 'b14_WDR5_VHL', '3117_MDM2_MDM2', '587_EGFR_VHL', '1404_c-Met_CRBN', '115_AR_VHL', '241_BTK_CRBN', '1336_Alpha-tubulin_CRBN', '1161_HDAC6_CRBN', '1457_IRAK4_CRBN', '2950_MDM2_CRBN', '7_BRD7_VHL', '2553_AKT1_VHL', '3061_AR_CRBN', '2591_AKT3_VHL', '2859_JAK3_CRBN', 'b27_PD-L1_CRBN', '2728_HSP90_CRBN', '2762_GSK3A_CRBN', 'b21_PD-L1_CRBN', '2554_AKT2_VHL', '1890_AR_VHL', '958_KRAS-G12C_CRBN', '1549_EGFR-L858R-T790M_CRBN', '716_BCL-xL_CRBN', '756_JAK2_VHL', '2524_AR-T878A_CRBN', 'b334_AKT1_CRBN', '1745_MEK1_CRBN', '2758_GSK3A_CRBN', '2446_EZH2_CRBN', '2752_GSK3A_CRBN', '1765_EZH2_CRBN', '1902_GSK-3beta_CRBN', '2381_BCL-xL_VHL', '352_MCL1_CRBN', '3257_CDK4_CRBN', '2325_AR_CRBN', '1374_BTK_VHL', '2428_HDAC3_VHL', '2647_BRD4_CRBN', '2070_CDK2_CRBN', '2620_EGFR-L858R-T790M_VHL', '1582_TRKC_CRBN', '162_BRD3_CRBN', '2596_AKT3_CRBN', 'b268_CDK9_CRBN', '3223_HDAC6_CRBN', '2582_AKT2_VHL', '1556_AR_CRBN', 'b273_CDK9_CRBN', '3130_BCR-ABL-T315I_cIAP1', '3192_HDAC8_CRBN', '2679_CDK2_VHL', '2407_EGFR-e19d_CRBN', '2613_EGFR-L858R-T790M_VHL', '564_EGFR_CRBN', '622_BCL-xL_VHL', '1675_PARP1_CRBN', '2561_AKT1_CRBN', '1772_EZH2_CRBN', '2971_PD-L1_CRBN', '800_CDK9_CRBN', '218_BTK_CRBN', '1718_MEK2_VHL', '3241_WDR5_VHL', '557_MDM2_CRBN', '771_JAK1_VHL', 'b377_MDM2_MDM2', '2251_CDK12_CRBN', '1531_FKBP12_CRBN', '608_CDK2_CRBN', 'b59_CDK9_CRBN', 'b240_ER_cIAP1', '1799_IRAK4_CRBN', '2488_CDK9_CRBN', '2580_AKT1_VHL', '1096_BRAF-V600E_CRBN', '3229_HDAC3_CRBN', '2954_PD-L1_CRBN', '2326_AR_CRBN', '613_CDK2_CRBN', '2022_CDK6_CRBN', '2944_FLT3_CRBN', 'b101_BRAF-G466E_VHL', '144_BRD4_CRBN', '1662_KRAS-G12C_VHL', '1550_EGFR-L858R-T790M_CRBN', '1115_HMGCR_CRBN', 'b319_AKT1_VHL', '1427_CDK6_MDM2', '1152_MEK1_CRBN', '2939_FLT3-ITD_CRBN', '1581_TRKC_CRBN', 'b314_AKT1_VHL', '1701_IRAK3_VHL', '2894_BRD4_CRBN', '2771_GSK-3beta_CRBN', '894_ER_VHL', '94_AR_VHL', '2986_KRAS-G12C_CRBN', '1325_HDAC6_CRBN', '2939_FLT3_CRBN', '3262_BRD4_FEM1B', '146_BRD4_CRBN', '2587_AKT2_VHL', 'b41_CDK9_CRBN', '912_ER_VHL', 'b261_CDK9_CRBN', '2052_BRAF-V600E_CRBN', '2873_FGFR2_CRBN', '2898_BRD2_CRBN', '1030_BCR-ABL_cIAP1', '231_BRD4_CRBN', '289_CDK9_CRBN', 'b81_MDM2_CRBN', '33_BRD7_VHL', '1302_PARP1_VHL', '2592_AKT2_VHL', '2558_AKT3_VHL', 'b101_BRAF-G466V_VHL', '1703_IRAK3_CRBN', '1349_IGF-1R_CRBN', '2425_HDAC3_VHL', '128_BRD3_CRBN', '2553_AKT3_VHL', '2936_FLT3-ITD-F691L_CRBN', '1242_Wee1_CRBN', '189_CDK6_CRBN', '178_CRBN_VHL', '2010_IRAK4_CRBN', '3219_BCL2_VHL', 'b346_AKT2_VHL', '3181_BTK_CRBN', '3252_WDR5_VHL', '169_PARP1_VHL', '1093_BRAF-V600E_CRBN', 'b292_CDK9_CRBN', '1407_c-Met_CRBN', '1704_IRAK3_CRBN', '2568_AKT1_CRBN', '1120_HMGCR_CRBN', '165_BRD2_CRBN', '3221_BCL2_VHL', '1693_TRKC_CRBN', '1664_PARP1_CRBN', '2932_FLT3-ITD-D835V_CRBN', 'b221_AR_CRBN', '1811_FAK_CRBN', '552_MDM2_CRBN', '2933_FLT3-ITD-F691L_CRBN', '1114_HMGCR_CRBN', 'b283_CDK9_CRBN', '2073_BRAF-D594N_VHL', '275_EGFR_VHL', '1791_BRD4_VHL', '543_ALK_CRBN', '1067_AR_cIAP1', '2038_CDK6_VHL', '28_BRD7_VHL', '998_VHL_VHL', '3122_MDM2_MDM2', '1500_SHP2_VHL', '2252_CDK12_CRBN', '1577_TRKC_CRBN', '328_BRD4_VHL', '1999_EGFR_CRBN', 'b133_BRD4_CRBN', 'b157_ABL_cIAP1', 'b199_GSPT1_CRBN', '696_CRABP-II_cIAP1', '1383_BTK_CRBN', '135_BRD2_CRBN', '1210_CDK1_CRBN', '571_EGFR_VHL', '2761_GSK3A_CRBN', '280_BTK_CRBN', 'b398_BRD3_CRBN', 'b72_MDM2_CRBN', '2271_FLT3-ITD_CRBN', '2552_AKT3_VHL', '204_ERRalpha_VHL', '2761_GSK-3beta_CRBN', '608_CDK9_CRBN', '2246_SHP2_CRBN', '3087_BTK_CRBN', '2543_HPGDS_CRBN', '1657_KRAS-G12C_VHL', '2341_BRD3_VHL', '137_BRD2_CRBN', '1318_FKBP12-F36V_CRBN', '2851_JAK3_CRBN', '1400_c-Met_CRBN', '143_BRD3_CRBN', '617_CDK9_CRBN', '569_EGFR_VHL', '1429_AR_VHL', '1801_IRAK4_CRBN', '744_CDK6_cIAP1', '2620_EGFR-e19d_VHL', '528_ALK_VHL', '671_BCL-xL_CRBN', '1577_TRKB_CRBN', 'b374_H-PGDS_CRBN', '1880_AR_CRBN', '3230_HDAC3_CRBN', '3004_Wee1_CRBN', '3258_SMARCA2_VHL', '996_VHL_VHL', '778_JAK2_CRBN', '1696_TRKC_CRBN', '137_BRD4_CRBN', 'b250_CDK9_CRBN', '3231_HDAC6_CRBN', '1904_GSK-3beta_CRBN', '2624_EGFR-e19d_VHL', '871_ER_VHL', 'b321_AKT1_CRBN', '1724_MEK2_VHL', '21_BRD9_VHL', '2519_AR_CRBN', '2881_FGFR2_VHL', '1714_IRAK3_CRBN', '2615_EGFR-e19d_VHL', 'b328_AKT1_CRBN', '96_AR_VHL', '1615_BCR-ABL-T315I_CRBN', '2599_AKT2_CRBN', '1359_NS3_CRBN', '358_AR_VHL', '2237_SHP2_CRBN', '2682_BRD4_CRBN', '2857_JAK2-R683G_CRBN', '700_CDK4_CRBN', '2572_AKT3_CRBN', '1891_AR_VHL', '445_MEK1_CRBN', '669_BCL-xL_CRBN', '1985_ALK_CRBN', '1543_EGFR-L858R-T790M_CRBN', 'b222_AR_CRBN', '3100_BRD9_CRBN', '3218_BCL2_VHL', '1024_BCR-ABL_cIAP1', '2563_AKT2_CRBN', '1792_BRD4_VHL', '611_CDK9_CRBN', '1824_FAK_CRBN', '2348_TTK_CRBN', '339_BRD2_CRBN', '243_BTK_CRBN', '2075_BRAF-D594N_VHL', '2000_EGFR-e19d_VHL', '2452_EZH2_VHL', '587_EGFR-L858R-T790M_VHL', 'b144_BRD4_VHL', '314_BRD4_VHL', '168_PARP1_CRBN', '440_MEK1_CRBN', '2393_ALK_CRBN', '2627_SOS1_VHL', '2609_EGFR-e19d_VHL', '2396_ALK_CRBN', '2023_CDK6_CRBN', '3097_BRD9_CRBN', '2340_BRD2_VHL', 'b332_AKT1_CRBN', '2526_AR-T878A_CRBN', '1201_BRD9_CRBN', '337_BRD3_VHL', '392_CDK6_CRBN', '2886_CCR9_VHL', '2580_AKT3_VHL', '2595_AKT1_CRBN', '179_CRBN_VHL', '183_p38alpha_VHL', '650_BCL-xL_CRBN', '3075_JAK2_CRBN', '2602_AKT2_CRBN', '297_CRBN_CRBN', '3055_AR_CRBN', '1737_MEK1_VHL', '584_EGFR-L858R-T790M_VHL', '2208_ALK_CRBN', '1749_MEK2_CRBN', '1056_ER_XIAP', '1497_SHP2_VHL', '1613_BCR-ABL_CRBN', '148_BRD4_CRBN', '2497_AR_CRBN', '2075_BRAF-G466E_VHL', '300_CRBN_CRBN', '1248_PD-L1_CRBN', '2851_JAK2_CRBN', '1199_BRD9_VHL', '2574_AKT1_CRBN', '84_ER_VHL', '2418_EGFR_VHL', '494_STAT3_CRBN', '1356_Src_CRBN', '1146_HMGCR_CRBN', '2515_AR_CRBN', '896_ER_VHL', '3218_BCL-xL_VHL', 'b385_BTK_CRBN', '389_CDK6_CRBN', 'b31_PD-L1_CRBN', '1698_TRKA_CRBN', 'b62_CDK9_CRBN', '2956_PD-L1_CRBN', '2550_AKT2_VHL', '1245_PD-L1_CRBN', 'b365_AKT2_CRBN', '2265_FLT3-ITD_CRBN', '2576_AKT1_VHL', '2943_FLT3-ITD-F691L_CRBN', '378_CDK4_CRBN', '761_JAK2_XIAP', '881_ER_VHL', '69_ER_VHL', '1827_HPGDS_CRBN', '2613_EGFR-e19d_VHL', '3001_Wee1_VHL', '1442_AR_CRBN', '2646_BRD4_CRBN', '112_AR_VHL', 'b309_AKT1_VHL', '950_KRAS-G12C_CRBN', '2821_MDM2_CRBN', '892_ER_VHL', '1585_AR_VHL', '908_ER_VHL', '775_JAK1_CRBN', 'b90_ER_VHL', '966_CRBN_VHL', '2581_AKT3_VHL', '683_eIF4E_CRBN', '1231_FLT-3_CRBN', '2062_BRAF-V600E_CRBN', '156_SIRT2_CRBN', '1719_MEK2_VHL', '3227_HDAC6_CRBN', '2285_WDR5_VHL', '2353_TTK_CRBN', '2583_AKT3_VHL', '2441_HDAC3_VHL', 'b29_PD-L1_CRBN', 'b318_AKT1_VHL', '2644_BRD2_CRBN', '11_BRD7_VHL', '2264_FLT3-ITD_CRBN', '575_EGFR-L858R-T790M_MDM2', '2704_BCR-ABL_CRBN', '1748_MEK1_CRBN', '1602_BCR-ABL_CRBN', '2392_ALK_CRBN', '2825_MDM2_CRBN', '1029_BCR-ABL_cIAP1', 'b10_WDR5_VHL', '329_BRD2_CRBN', '1316_TRIM24_VHL', '1301_PARP1_CRBN', '757_JAK1_CRBN', '627_BCL-xL_VHL', '1466_IRAK4_CRBN', 'b205_AR_CRBN', '2702_BCR-ABL_CRBN', 'b174_BTK_CRBN', '1076_AR_cIAP1', '1561_AR_CRBN', 'b112_BRD3_CRBN', '2937_FLT3_CRBN', '732_ER_cIAP1', '2585_AKT1_VHL', '674_CYP1B1_CRBN', '2229_EGFR-e19d_CRBN', '3254_WDR5_VHL', '1158_HDAC6_CRBN', '1169_HDAC6_CRBN', '2841_BTK-C481S_CRBN', '2756_GSK3A_CRBN', '2590_AKT3_VHL', '447_MEK1_CRBN', '2339_BRD4_VHL', '3222_HDAC6_CRBN', '3153_CDK6_CRBN', '3148_HMGCR_VHL', '2426_HDAC3_VHL', '1793_BRD4_VHL', 'b267_CDK9_CRBN', '2126_ER_CRBN', '2588_AKT3_VHL', '2601_AKT3_CRBN', '136_BRD4_CRBN', '599_CDK2_CRBN', '768_JAK1_VHL', '335_BRD3_VHL', '2938_FLT3-ITD_CRBN', '2205_ALK_CRBN', '3211_LXRA_CRBN', '1346_Src_CRBN', 'b106_BCL-xL_VHL', 'b162_ABL_VHL', '2288_WDR5_VHL', '2053_BRAF-V600E_CRBN', '134_BRD2_CRBN', '1583_TRKA_CRBN', '2438_HDAC2_VHL', '1620_BCR-ABL-H396R_CRBN', '1814_FAK_CRBN', '1249_PD-L1_CRBN', 'b317_AKT1_VHL', '1542_EGFR-L858R-T790M_CRBN', '1490_SHP2_VHL', '2689_BRD4_CRBN', '2558_AKT1_VHL', '1370_BTK_CRBN', '1343_Beta-tubulin_CRBN', '1508_SHP2_VHL', '754_BTK_CRBN', '577_EGFR-L858R-T790M_VHL', '748_BCR-ABL_cIAP1', '1332_Alpha-tubulin_CRBN', '272_FAK_CRBN', '1509_FAK_CRBN', '85_ER_VHL', '1872_AR_CRBN', '1151_MEK2_CRBN', '1562_AR_VHL', '1530_FKBP12_CRBN', '2562_AKT1_CRBN', '2858_JAK3_CRBN', '1651_BRD3_VHL', '1474_EGFR-L858R-T790M_CRBN', '799_CDK9_CRBN', '1215_BRD4_CRBN', '1534_FKBP12_CRBN', '544_ALK_CRBN', '2753_GSK3A_CRBN', '1443_AR_CRBN', '2584_AKT1_VHL', '1430_AR_VHL', '838_ER_CRBN', '1107_BRAF-V600E_VHL', '1969_CDK4_CRBN', '2738_HSP90_MDM2', '2272_FLT3-ITD_CRBN', '897_ER_VHL', '2849_JAK2_CRBN', '501_BCL2_CRBN', '1060_ER_cIAP1', '1376_BTK_CRBN', '2284_WDR5_VHL', '1653_BRD2_VHL', 'b92_ER_VHL', '681_eIF4E_CRBN', '15_BRD7_VHL', 'b306_NSD3_VHL', '130_BRD2_CRBN', '1745_MEK2_CRBN', '2577_AKT3_VHL', '1911_GSK-3beta_CRBN', '1392_BTK_CRBN', '2434_HDAC3_VHL', '2430_HDAC2_VHL', '2948_MDM2_CRBN', '2651_BRD2_CRBN', 'b257_CDK9_CRBN', 'b335_AKT1_CRBN', '2942_FLT3-ITD-D835V_CRBN', '2994_SHP2_CRBN', '664_BCL-xL_CRBN', '2432_HDAC3_VHL', '2824_MDM2_CRBN', '193_CDK6_CRBN', '2403_EGFR-e19d_CRBN', '798_PBRM1_VHL', '2595_AKT3_CRBN', '3095_BRD9_CRBN', '2228_EGFR-e19d_CRBN', '579_EGFR-L858R-T790M_MDM2', '2001_EGFR-e19d_VHL', '1800_IRAK4_CRBN', '2581_AKT1_VHL', '2370_RIPK2_IAP', '102_AR_VHL', '1187_BRD9_CRBN', '415_CDK4_MDM2', '2752_GSK-3beta_CRBN', '521_ALK_VHL', '309_PI3Kalpha_CRBN', '1296_PARP1_CRBN', '2442_EZH2_CRBN', '2577_AKT1_VHL', '1770_EZH2_CRBN', '1159_HDAC6_CRBN', '223_ALK_CRBN', '1281_BCL-xL_XIAP', '2554_AKT1_VHL', '1809_FAK_CRBN', 'b117_AR_CRBN', '2749_GSK-3beta_CRBN', '3107_BRAF-V600E_CRBN', '2500_AR_CRBN', '3232_HDAC1_CRBN', '470_BCR-ABL_VHL', '2849_JAK3_CRBN', '1334_Beta-tubulin_CRBN', '1483_KRAS_VHL', '2041_AURKA_CRBN', '1632_p38alpha_CRBN', '1298_PARP1_CRBN', '173_CRBN_VHL', '3226_HDAC3_CRBN', '811_IRAK4_CRBN', '2681_CDK2_VHL', '1577_TRKA_CRBN', '1021_BCR-ABL_cIAP1', '478_STAT3_CRBN', 'b91_ER_VHL', '1525_BRD4_CRBN', '3183_BTK_CRBN', '2603_AKT1_CRBN', '1269_PD-L1_CRBN', '1979_ALK_CRBN', '3151_CDK6_CRBN', '2600_AKT3_CRBN', '1758_MEK2_CRBN', '740_CDK6_VHL', '2651_BRD3_CRBN', '1683_PARP1_CRBN', '2869_STAT3_CRBN', '1136_HMGCR_CRBN', '1244_Wee1_CRBN', '73_ER_VHL', '2421_HDAC3_VHL', '624_BCL-xL_VHL', '2638_SOS1_VHL', '1652_BRD4_VHL', '2654_BRD4_CRBN', '1863_HDAC3_CRBN', '3174_BTK-C481S_CRBN', '3245_WDR5_VHL', '406_BCR-ABL_CRBN', '1006_CRABP-II_cIAP1', '563_EGFR_CRBN', 'b18_WDR5_VHL', '110_AR_VHL', '1259_PD-L1_CRBN', '263_ALK_VHL', 'b204_AR_CRBN', '235_BRAF_CRBN', '37_MDM2_CRBN', '2125_ER_CRBN', 'b224_AR_CRBN', '868_ER_VHL', '2085_BTK_CRBN', '1353_Src_CRBN', 'b293_CDK9_CRBN', '1712_IRAK3_CRBN', '2712_BCR-ABL-G250E_CRBN', '586_EGFR-L858R-T790M_VHL', '51_MDM2_CRBN', '1636_p38alpha_CRBN', '301_CRBN_CRBN', '1706_IRAK3_VHL', 'b206_AR_CRBN', '1488_SHP2_VHL', '2585_AKT3_VHL', '1659_KRAS-G12C_VHL', 'b258_CDK9_CRBN', '3119_MDM2_MDM2', '117_AR_VHL', '1718_MEK1_VHL', '2098_FKBP12-F36V_VHL', 'b393_HDAC8_CRBN', '2464_CDK9_CRBN', '2899_BRD4_CRBN', '2657_BRD2_CRBN', '1723_MEK2_VHL', '1679_PARP1_CRBN', '384_CDK4_CRBN', '234_BRD4_CRBN', 'b315_AKT1_VHL', '657_BCL-xL_CRBN', '2635_SOS1_VHL', '816_IRAK4_VHL', '846_ER_CRBN', '2596_AKT2_CRBN', 'b95_ER_VHL', '1433_AR_VHL', 'b185_HDAC2_CRBN', '1990_ALK_CRBN', '2996_SHP2_CRBN', '1583_TRKC_CRBN', '2945_FLT3-ITD-D835V_CRBN', 'b380_ER_VHL', 'b153_ABL_cIAP1', '1460_IRAK4_CRBN', '645_BCL-xL_CRBN', '466_BCR-ABL_VHL', '1121_HMGCR_CRBN', '101_AR_VHL', 'b178_BTK_CRBN', '35_BRD7_VHL', 'b112_BRD2_CRBN', '2945_FLT3-ITD-F691L_CRBN', '1667_PARP1_CRBN', '2744_GSK-3beta_CRBN', '2614_EGFR-e19d_VHL', '1946_VEGFR-2_VHL', '3208_LXRA_VHL', '3145_HMGCR_CRBN', '452_MEK1_CRBN', '78_ER_VHL', '2323_AR_CRBN', '118_AR_VHL', '266_FAK_VHL', '71_ER_VHL', '1241_Wee1_CRBN', 'b339_AKT2_VHL', '1867_AR_CRBN', '707_CDK4_CRBN', '661_BCL-xL_CRBN', '3219_BCL-xL_VHL', '935_EED_VHL', '1749_MEK1_CRBN', '2234_SHP2_CRBN', '2305_AR_CRBN', '1353_IGF-1R_CRBN', 'b387_BTK_CRBN', '332_FKBP12_CRBN', '1608_BCR-ABL_CRBN', '334_RIPK2_VHL', '981_Cdc20_VHL', '858_ER_VHL', '2529_AR_CRBN', '18_BRD9_VHL', '3247_WDR5_CRBN', '1233_FLT-3_CRBN', '2936_FLT3-ITD_CRBN', '1720_MEK1_VHL', '3191_HDAC8_CRBN', '3142_BCR-ABL-T315I_CRBN', '1104_BRAF-V600E_VHL', 'b278_CDK9_CRBN', '2566_AKT3_CRBN', '505_MCL1_CRBN', '1489_SHP2_VHL', '1473_EGFR_CRBN', '597_EGFR-e19d_CRBN', '2602_AKT1_CRBN', '427_MEK2_VHL', '1140_HMGCR_CRBN', 'b322_AKT1_CRBN', '3006_Wee1_CRBN', '2359_TTK_CRBN', '2585_AKT2_VHL', '1916_GSK-3beta_CRBN', '1256_PD-L1_CRBN', '2528_AR_CRBN', '3114_MDM2_MDM2', '711_CDK4_CRBN', '2588_AKT2_VHL', '2813_MDM2_CRBN', '1637_p38alpha_CRBN', '66_ER_VHL', '2846_HDAC6_CRBN', '2116_FAK_CRBN', '240_CDK6_CRBN', 'b297_BRD3-BD2_KEAP1', '2075_BRAF-V600E_VHL', '386_CDK6_CRBN', '2530_AR_CRBN', '153_BRD4_VHL', '2253_CDK12_CRBN', '1597_PDEdelta_CRBN', '353_MCL1_CRBN', 'b345_AKT2_VHL', '1598_PDEdelta_CRBN', '401_BCR-ABL_VHL', '336_BRD2_VHL', '2602_AKT3_CRBN', '722_CDK6_CRBN', '1150_MEK1_VHL', '68_ER_VHL', '2235_SHP2_CRBN', '3078_JAK2_CRBN', '2844_HDAC6_CRBN', '987_Cdc20_VHL', '1122_HMGCR_CRBN', '422_CDK4_cIAP1', '1003_TRKC_CRBN', '3120_MDM2_MDM2', 'b211_AR_CRBN', '2364_RIPK2_IAP', '1607_BCR-ABL_CRBN', '3131_BCR-ABL-T315I_CRBN', '105_AR_VHL', '2594_AKT1_CRBN', '2472_CDK9_CRBN', '1090_BRAF-V600E_CRBN', '1117_HMGCR_CRBN', '220_BTK_CRBN', '1385_BTK_CRBN', '420_CDK4_cIAP1', '550_MDM2_CRBN', '2743_GSK3A_CRBN', '3084_BTK_CRBN', '1046_ER_cIAP1', '1494_SHP2_VHL', '2557_AKT1_VHL', 'b184_HDAC2_CRBN', '1994_EGFR_CRBN', '397_CDK6_CRBN', '2893_BRD2_CRBN', '2947_MDM2_CRBN', '133_BRD3_CRBN', '2011_IRAK4_CRBN', 'b38_PD-L1_CRBN', '2732_HSP90_MDM2', '1055_ER_cIAP1', '814_IRAK4_XIAP', '1690_TRKA_CRBN', '1991_ALK_CRBN', '405_BCR-ABL_CRBN', '1_BRD9_VHL', '1212_CDK2_CRBN', '3147_HMGCR_VHL', '2382_BCL-xL_VHL', '2640_SOS1_VHL', '2819_MDM2_CRBN', '562_EGFR_CRBN', '680_eIF4E_CRBN', '3213_BCL-xL_VHL', '3206_LXRB_VHL', '2985_KRAS-G12C_CRBN', '42_MDM2_CRBN', '721_CDK6_CRBN', '2755_GSK3A_CRBN', '1089_BRAF-V600E_CRBN', '398_BTK_VHL', 'b159_ABL_cIAP1', '1037_ER_cIAP1', '2433_HDAC1_VHL', '3067_IRAK1_VHL', '2467_CDK9_CRBN', '2115_FAK_CRBN', 'b52_CDK9_CRBN', '1668_PARP1_CRBN', '2722_HSP90_CRBN', '2647_BRD2_CRBN', '1403_c-Met_CRBN', '729_HDAC2_VHL', '35_BRD9_VHL', '1458_IRAK4_CRBN', '2026_CDK6_CRBN', '2696_BRD4_CRBN', '719_CDK6_CRBN', '10_BRD7_VHL', '830_ER_VHL', '1863_HDAC2_CRBN', '1917_GSK-3beta_CRBN', '2406_EGFR-e19d_CRBN', '1327_HDAC6_CRBN', 'b389_BTK_CRBN', '2023_CDK4_CRBN', '2935_FLT3-ITD-F691L_CRBN', '326_BCR-ABL_CRBN', '2380_RIPK2_IAP', '2757_GSK-3beta_CRBN', '2938_FLT3-ITD-F691L_CRBN', '2717_BCR-ABL_CRBN', '1738_MEK1_CRBN', '1334_Alpha-tubulin_CRBN', '267_FAK_VHL', '1981_ALK_CRBN', '1825_SIRT2_CRBN', '759_JAK1_VHL', '1913_GSK-3beta_CRBN', '2856_JAK2_CRBN', '944_KRAS-G12C_CRBN', '1514_BCR-ABL_CRBN', '878_ER_VHL', '656_BCL-xL_CRBN', '1480_KRAS_VHL', '418_CDK4_VHL', '813_IRAK4_XIAP', '2936_FLT3_CRBN', '2374_RIPK2_IAP', '917_ER_VHL', '483_STAT3_CRBN', '1702_IRAK3_VHL', '2610_EGFR-L858R-T790M_VHL', '45_MDM2_CRBN', '2503_AR_CRBN', '876_ER_VHL', '2110_HDAC1_cIAP1', '11_BRD9_VHL', 'b149_ABL_cIAP1', '1882_AR_CRBN', '2740_CDK12_CRBN', '2431_HDAC1_VHL', '689_eIF4E_CRBN', '1638_p38alpha_CRBN', '1279_BCL-xL_cIAP1', '2560_AKT3_CRBN', '2888_FAK_VHL', '2487_CDK9_CRBN', 'b218_AR_CRBN', 'b239_BTK_CRBN', '2905_MIF_CRBN', '419_CDK4_VHL', 'b139_BRD4_VHL', '2890_FAK_VHL', '1083_BRAF-V600E_CRBN', '3099_BRD9_CRBN', '508_MCL1_CRBN', 'b101_BRAF_VHL', '2617_EGFR-e19d_VHL', '1135_HMGCR_CRBN', '2042_AURKA_CRBN', '2626_EGFR-e19d_VHL', '3104_SMARCA2_CRBN', '854_ER_VHL', '72_ER_VHL', '16_BRD7_VHL', '1910_GSK-3beta_CRBN', '76_ER_VHL', 'b145_BRD4_CRBN', 'b297_BRD4-BD1_KEAP1', '48_MDM2_CRBN', '417_CDK4_VHL', '630_BCL-xL_VHL', 'b186_ER_VHL', '639_BCL-xL_VHL', 'b148_CRABP2_cIAP1', '751_BTK_VHL', 'b197_GSPT1_CRBN', '561_EGFR_CRBN', '488_STAT3_CRBN', '2712_BCR-ABL-V299L_CRBN', '1349_Src_CRBN', '2513_AR_CRBN', '2057_BRAF-V600E_VHL', '2929_FLT3-ITD-F691L_CRBN', '1773_EZH2_CRBN', '2774_AXL_CRBN', 'b360_AKT2_CRBN', '1444_BRD4_CRBN', '329_BRD3_CRBN', '3150_BRD4_CRBN', '1166_HDAC6_CRBN', '2657_BRD3_CRBN', '1196_BRD9_CRBN', '429_MEK1_VHL', '1105_BRAF-V600E_VHL', '2783_AXL_CRBN', '287_CDK9_CRBN', '2003_EP300_CRBN', 'b112_BRD4_CRBN', 'b367_H-PGDS_CRBN', '2654_BRD2_CRBN', 'b288_CDK9_CRBN', '2887_FAK_VHL', '1984_ALK_CRBN', '3216_BCL-xL_VHL', '1373_BTK_VHL', '421_CDK4_cIAP1', '1170_HDAC6_CRBN', 'b100_ER_VHL', '1426_CDK4_CRBN', '114_AR_VHL', '1994_EGFR-L858R-T790M_CRBN', '955_KRAS-G12C_CRBN', '990_Cdc20_CRBN', '2731_HSP90_MDM2', '2935_FLT3_CRBN', '629_BCL-xL_VHL', '812_IRAK4_CRBN', '1482_KRAS_CRBN', '2951_MDM2_CRBN', '2889_FAK_VHL', '2110_HDAC8_cIAP1', '2217_ALK-G1202R_CRBN', '2341_BRD4_VHL', '589_EGFR-e19d_VHL', '1295_PARP1_CRBN', '2270_FLT3-ITD_CRBN', '649_BCL-xL_CRBN', '2959_PD-L1_CRBN', '3079_JAK2_CRBN', '238_BRAF_CRBN', '2027_CDK6_CRBN', '859_ER_VHL', '4_BRD9_CRBN', '2369_RIPK2_IAP', '121_AR_VHL', 'b342_AKT2_VHL', '472_BCR-ABL_VHL', '3053_AR_CRBN', '2756_GSK-3beta_CRBN', '432_MEK1_VHL', '463_BCR-ABL_VHL', '2287_WDR5_VHL', '2061_BRAF-V600E_CRBN', '3135_BCR-ABL-T315I_CRBN', '157_BRD3_CRBN', '216_BTK_CRBN', '145_BRD3_CRBN', '3000_Wee1_VHL', '1982_ALK_CRBN', '139_BRD3_CRBN', '2547_HPGDS_VHL', 'b24_PD-L1_CRBN', '964_CRBN_VHL', '2941_FLT3-ITD-D835V_CRBN', '1789_BRD4_VHL', '187_p38alpha_VHL', '1145_HMGCR_CRBN', '1645_p38beta_CRBN', '2039_CDK6_XIAP', 'b225_AR_CRBN', '1487_SHP2_VHL', '1347_IGF-1R_CRBN', '978_RIPK2_CRBN', '63_ER_VHL', '862_ER_VHL', '1455_IRAK4_CRBN', '1484_KRAS_CRBN', '2832_BTK_CRBN', 'b249_FAK_VHL', '2628_SOS1_VHL', '801_CDK9_CRBN', '229_BRD2_VHL', '2592_AKT3_VHL', '2520_AR_CRBN', '1243_Wee1_CRBN', 'b266_CDK9_CRBN', '2074_BRAF-V600E_VHL', '646_BCL-xL_CRBN', '2896_BRD4_CRBN', '1737_MEK2_VHL', '2579_AKT3_VHL', '752_BTK_VHL', '1207_CDK2_CRBN', '226_HDAC6_CRBN', '3118_MDM2_MDM2', '1636_p38beta_CRBN', '1753_MEK2_CRBN', '399_BTK_VHL', '3239_WDR5_VHL', '8_BRD9_VHL', '503_BCL2_CRBN', '758_JAK2_XIAP', 'b300_BRD3-BD2_KEAP1', '1094_BRAF-V600E_CRBN', '2114_FAK_CRBN', '2430_HDAC3_VHL', '2352_TTK_CRBN', '144_BRD3_CRBN', '1034_ER_cIAP1', '737_BRD2_CRBN', '1717_IRAK3_CRBN', '1347_Src_CRBN', '3244_WDR5_VHL', '2591_AKT1_VHL', 'b42_CDK9_CRBN', '194_BRD3_CRBN', '3207_LXRA_VHL', '1350_IGF-1R_CRBN', '2483_CDK9_CRBN', '556_MDM2_CRBN', '2759_GSK3A_CRBN', '1618_BCR-ABL_CRBN', '468_BCR-ABL_VHL', '2840_BTK-C481S_CRBN', '2482_CDK9_CRBN', '637_BCL-xL_VHL', '2428_HDAC1_VHL', '499_MCL1_CRBN', '1274_BCL-xL_cIAP1', '2653_BRD3_CRBN', '983_Cdc20_VHL', '1428_CDK4_CRBN', '1066_AR_cIAP1', '1778_PRMT5_VHL', '2396_PTK2B_CRBN', '2022_CDK4_CRBN', '2928_FLT3_CRBN', 'b43_CDK9_CRBN', '1495_SHP2_VHL', '2571_AKT3_CRBN', '2836_BTK-C481S_CRBN', '1160_HDAC6_CRBN', '1172_HDAC6_VHL', '2316_AR_CRBN', '2853_JAK2_CRBN', '2132_SMARCA2_VHL', '2528_AR-T878A_CRBN', '586_EGFR_VHL', '3215_BCL-xL_VHL', '2600_AKT1_CRBN', '2877_FGFR2_CRBN', 'b101_BRAF-V600E_VHL', 'b338_AKT2_VHL', '612_CDK9_CRBN', '2301_AR_CRBN', '968_CRBN_VHL', '759_JAK2_VHL', '1533_FKBP12_CRBN', '1465_IRAK4_CRBN', '2362_TTK_CRBN', '2608_EGFR-e19d_VHL', '224_ALK_CRBN', '1098_BRAF-V600E_CRBN', '1343_Alpha-tubulin_CRBN', '450_MEK1_CRBN', '972_CRBN_VHL', 'b124_AR_VHL', '2571_AKT2_CRBN', '2937_FLT3-ITD-D835V_CRBN', '546_MDM2_CRBN', '3101_SMARCA2_CRBN', '1468_ER_VHL', '2460_CDK9_CRBN', 'b66_MDM2_CRBN', 'b282_CDK9_CRBN', '3127_BCR-ABL-T315I_CRBN', '31_BRD7_VHL', '1189_BRD9_CRBN', 'b303_NSD3_CRBN', '9_BRD7_VHL', '849_ER_VHL', '2435_HDAC1_VHL', '22_BRD9_VHL', '2019_CDK4_CRBN', '991_Cdc20_CRBN', '286_CDK9_CRBN', '1461_IRAK4_CRBN', '322_BCR-ABL_VHL', '1070_AR_cIAP1', '605_CDK2_CRBN', '540_ALK_VHL', '1337_Alpha-tubulin_CRBN', 'b17_WDR5_VHL', '139_BRD4_CRBN', '2047_AURKA_VHL', 'b223_AR_CRBN', 'b384_BTK_CRBN', '413_CDK4_MDM2', '1351_IGF-1R_CRBN', '852_ER_VHL', '281_BTK_CRBN', 'b325_AKT1_CRBN', '1578_TRKB_CRBN', '2934_FLT3-ITD_CRBN', '1725_MEK1_VHL', '1576_TRKB_CRBN', '1126_HMGCR_CRBN', '1894_AR_VHL', 'b94_ER_IAP', '588_EGFR-e19d_VHL', '1361_BTK_CRBN', '34_BRD7_VHL', '376_CDK6_CRBN', '2435_HDAC3_VHL', '175_CRBN_VHL', '1513_BCR-ABL_CRBN', '2502_AR_CRBN', '1358_NS3_CRBN', '2651_BRD4_CRBN', '1805_IRAK4_CRBN', '317_BCR-ABL_CRBN', '2901_MIF_CRBN', '2512_AR_CRBN', '2645_BRD2_CRBN', 'b260_CDK9_CRBN', '2274_FLT3-ITD_VHL', '147_BRD4_CRBN', 'b189_ER_VHL', '618_BCL-xL_VHL', '158_BRD4_CRBN', '2018_HDAC3_VHL', '2444_EZH2_CRBN', 'b194_GSPT1_CRBN', '3221_BCL-xL_VHL', '2424_HDAC3_VHL', '746_CDK4_CRBN', '391_CDK6_CRBN', 'b245_FAK_VHL', '797_PBRM1_VHL', '1816_FAK_CRBN', '3009_Wee1_CRBN', '145_BRD4_CRBN', '2656_BRD2_CRBN', '27_BRD7_VHL', '184_p38alpha_VHL', '999_VHL_VHL', '3082_JAK2_CRBN', 'b88_ER_CRBN', '2431_HDAC2_VHL', '2434_HDAC1_VHL', 'b140_BRD3_CRBN', '1329_HDAC6_CRBN', '2631_SOS1_VHL', '1696_TRKB_CRBN', '1794_BRD4_VHL', '1388_BTK_VHL', '3242_WDR5_VHL', '1798_IRAK4_CRBN', '613_CDK9_CRBN', '2216_ALK_CRBN', '2842_BTK-C481S_CRBN', 'b67_MDM2_CRBN', '1896_AR_VHL', '695_CRABP-II_cIAP1', '1313_PARP1_CRBN', '5_BRD9_DCAF15', '1582_TRKA_CRBN', '1744_MEK2_CRBN', 'b154_ABL_cIAP1', '1547_EGFR-L858R-T790M_CRBN', '1081_BRAF-V600E_CRBN', '1518_BRD3_CRBN', '171_PARP1_CRBN', '3188_BTK_CRBN', '1834_IDO1_CRBN', '3089_BTK_CRBN', '1742_MEK2_CRBN', 'b202_GSPT1_CRBN', '1528_BRD4_CRBN', '2654_BRD3_CRBN', '2729_HSP90_MDM2', '2857_JAK2_CRBN', '3253_WDR5_VHL', '1699_TRKA_CRBN', '2941_FLT3-ITD-F691L_CRBN', '2802_MDM2_CRBN', '2548_AKT1_VHL', '2647_BRD3_CRBN', '89_ER_VHL', '2130_ER_CRBN', '442_MEK1_CRBN', '426_CDK6_CRBN', '425_CDK6_CRBN', '2561_AKT3_CRBN', '2128_ER_CRBN', '977_RIPK2_cIAP1', '1733_MEK2_VHL', '2485_CDK9_CRBN', 'b125_BRDT_VHL', '2586_AKT3_VHL', '824_ER_VHL', '567_EGFR_VHL', '1995_EGFR-L858R-T790M_VHL', '30_BRD9_VHL', '730_HDAC2_VHL', '3108_BRAF-V600E_CRBN', '2899_BRD2_CRBN', '2930_FLT3_CRBN', '2715_BCR-ABL_CRBN', '3113_MDM2_MDM2', '170_PARP1_MDM2', '2077_BTK_CRBN', '36_MCL1_CRBN', '30_BRD7_VHL', '32_BRD7_VHL', '2552_AKT2_VHL', '1164_HDAC6_CRBN', '1730_MEK1_VHL', '2020_CDK4_CRBN', '1017_BCR-ABL_cIAP1', '2829_KRAS-G12C_VHL', '2398_ALK_CRBN', '1196_BRD4_CRBN', '2073_BRAF-G469A_VHL', '2429_HDAC2_VHL', 'b347_AKT2_VHL', '3139_BCR-ABL-T315I_CRBN', '2447_EZH2_CRBN', '1545_EGFR-L858R-T790M_CRBN', '729_HDAC3_VHL', '2652_BRD3_CRBN', '2437_HDAC3_VHL', '2082_BTK_CRBN', 'b127_MCL1_CRBN', '54_MDM2_VHL', '1987_ALK_CRBN', '2721_HSP90_CRBN', '530_ALK_VHL', '2541_HPGDS_CRBN', '2958_PD-L1_CRBN', '1727_MEK1_VHL', '620_BCL-xL_VHL', 'b126_MDM2_CRBN', '1879_AR_CRBN', '3149_HMGCR_VHL', '500_BCL2_CRBN', '2556_AKT2_VHL', '3217_BCL2_VHL', '1224_BTK_CRBN', 'b115_AR_CRBN', '2551_AKT3_VHL', 'b25_PD-L1_CRBN', '746_CDK6_CRBN', 'b370_H-PGDS_CRBN', '1047_ER_cIAP1', '1988_ALK_CRBN', '1015_CRBN_VHL', 'b381_EP300_CRBN', '2002_EGFR-e19d_VHL', '1757_MEK1_CRBN', '3169_AR_CRBN', '956_KRAS-G12C_CRBN', '2363_TTK_CRBN', '2453_EZH2_VHL', '549_MDM2_CRBN', '989_Cdc20_CRBN', '461_BCR-ABL_VHL', '1179_HDAC6_VHL', '2604_AKT3_CRBN', '1721_MEK2_VHL', 'b286_CDK9_CRBN', '1348_Src_CRBN', '1661_KRAS-G12C_VHL', '2066_BTK_cIAP1', '2507_AR_CRBN', '2396_FAK_CRBN', '2046_AURKA_VHL', '1998_EGFR-L858R-T790M_CRBN', '1141_HMGCR_CRBN', '3225_HDAC1_CRBN', '161_BRD2_CRBN', '132_BRD2_CRBN', '1365_BTK_CRBN', '428_MEK1_VHL', '3081_JAK2_CRBN', '142_BRD2_CRBN', '212_BTK_CRBN', '6_BRD9_DCAF15', '1463_IRAK4_CRBN', '2593_AKT3_CRBN', '2419_HDAC3_VHL', '2848_JAK2_CRBN', '2433_HDAC2_VHL', '2652_BRD4_CRBN', '3008_Wee1_CRBN', '3209_LXRB_VHL', '2019_CDK6_CRBN', '593_EGFR-e19d_VHL', '1907_GSK-3beta_CRBN', '2396_FER_CRBN', '2_BRD7_VHL', '1389_BTK_VHL', '1998_EGFR_CRBN', '396_CDK6_CRBN', '2764_GSK3A_CRBN', '697_BCL-xL_VHL', '2798_MDM2_CRBN', '2712_BCR-ABL-F317L_CRBN', '579_EGFR_MDM2', '1331_Beta-tubulin_CRBN', '2113_FAK_CRBN', '3111_BRAF-V600E_CRBN', '1355_Src_CRBN', 'b152_ABL_cIAP1', '12_BRD7_VHL', '2833_BTK-C481S_CRBN', '188_p38delta_VHL', '1184_HDAC6_VHL', '2425_HDAC1_VHL', '1725_MEK2_VHL', '419_CDK6_VHL', '2221_ALK_CRBN', '1619_BCR-ABL_CRBN', '2239_SHP2_CRBN', '2943_FLT3-ITD-D835V_CRBN', '1971_ALK_CRBN', '139_BRD2_CRBN', '1736_MEK1_VHL', '330_BRD4_CRBN', '2655_BRD2_CRBN', '167_BRD3_CRBN', '479_STAT3_CRBN', '3267_BCR-ABL_FEM1B', 'b96_ER_VHL', '2940_FLT3-ITD_CRBN', '576_EGFR_VHL', '2605_EGFR-e19d_VHL', 'b217_AR_CRBN', '75_ER_VHL', '1732_MEK2_VHL', '2405_EGFR-e19d_CRBN', '2607_EGFR-L858R-T790M_VHL', '190_CDK6_CRBN', '2760_GSK3A_CRBN', '2304_AR_CRBN', '1167_HDAC6_CRBN', '1603_BCR-ABL_CRBN', '1305_PARP2_CRBN', '1005_TRKC_MDM2', '1479_ALK_VHL', 'b74_MDM2_CRBN', '2344_TTK_VHL', '2327_AR_CRBN', '3222_HDAC3_CRBN', '434_MEK1_VHL', '376_CDK4_CRBN', '3234_HDAC6_CRBN', '3096_BRD9_CRBN', '1493_SHP2_VHL', '1168_HDAC6_CRBN', '490_STAT3_CRBN', '2598_AKT1_CRBN', '867_ER_VHL', '2597_AKT2_CRBN', '3066_IRAK1_VHL', '1912_GSK-3beta_CRBN', '692_eIF4E_VHL', '1812_FAK_CRBN', '870_ER_VHL', '2872_FGFR2_CRBN', 'b9_WDR5_VHL', '1884_AR_CRBN', '1155_HDAC6_CRBN', '2084_BTK_CRBN', '2791_AXL_CRBN', '708_CDK6_CRBN', '1995_EGFR_VHL', '183_c-Met_VHL', '1646_p38alpha_CRBN', '2020_CDK6_CRBN', '2424_HDAC1_VHL', '1815_FAK_CRBN', '1336_Beta-tubulin_CRBN', '2855_JAK2_CRBN', '2933_FLT3-ITD-D835V_CRBN', '1422_c-KIT_CRBN', '737_BRD3_CRBN', '12_BRD9_VHL', '1434_AR_VHL', '1642_p38alpha_CRBN', '696_CRABP-I_cIAP1', '1741_MEK1_CRBN', '159_BRD4_CRBN', '853_ER_VHL', '2045_AURKA_CRBN', '1830_IDO1_CRBN', 'b179_BTK_CRBN', '2567_AKT1_CRBN', '3225_HDAC3_CRBN', '1062_ER_XIAP', '381_CDK4_CRBN', '1651_BRD2_VHL', '1610_BCR-ABL_CRBN', '3176_BTK_CRBN', '1032_BCR-ABL_cIAP1', '1299_PARP1_CRBN', '1428_CDK6_CRBN', '2439_HDAC1_VHL', '3013_Wee1_CRBN', 'b128_BRD4_VHL', '1757_MEK2_CRBN', '2652_BRD2_CRBN', '2565_AKT3_CRBN', '33_BRD9_VHL', '2636_SOS1_VHL', '2342_BRD4_VHL', '428_MEK2_VHL', '2519_AR-T878A_CRBN', 'b228_ABL_IAP', '1027_BCR-ABL_cIAP1', '2621_EGFR-e19d_VHL', '2338_BRD3_VHL', '910_ER_VHL', '2063_BRAF-V600E_CRBN', '2438_HDAC1_VHL', '3223_HDAC3_CRBN', '1054_ER_XIAP', '2311_AR_CRBN', '1729_MEK2_VHL', '2438_HDAC3_VHL', '242_BTK_CRBN', '2248_CDK12_CRBN', '2750_GSK-3beta_CRBN', '1576_TRKA_CRBN', '886_ER_VHL', '307_PI3Kalpha_CRBN', '1044_ER_cIAP1', '1149_MEK1_VHL', '2375_RIPK2_IAP', '2399_ALK_CRBN', '80_ER_VHL', '2590_AKT1_VHL', '337_BRD4_VHL', '3138_BCR-ABL-T315I_CRBN', 'b208_AR_CRBN', '2566_AKT2_CRBN', '264_ALK_VHL', '133_BRD2_CRBN', 'b348_AKT2_VHL', '1028_BCR-ABL_cIAP1', '2343_BRD4_VHL', '505_BCL2_CRBN', '111_AR_VHL', '1535_BRD3_VHL', '2937_FLT3-ITD_CRBN', 'b147_CRABP2_cIAP1', 'b123_AR_VHL', '2049_BRAF-V600E_CRBN', 'b210_AR_CRBN', '2_BRD9_VHL', 'b111_CDK2_CRBN', '755_JAK1_XIAP', '1085_BRAF-V600E_CRBN', '1163_HDAC6_CRBN', '2935_FLT3-ITD-D835V_CRBN', '2229_EGFR-L858R-T790M_CRBN', '1304_PARP2_CRBN', '717_BCL-xL_CRBN', '2630_SOS1_VHL', '2400_ALK_CRBN', '1217_BRD4_CRBN', '2766_GSK3A_CRBN', '1080_BRAF-V600E_CRBN', '1210_CDK9_CRBN', '2250_CDK12_CRBN', '3_BRD9_CRBN', '2586_AKT2_VHL', '701_CDK6_CRBN', '308_PI3Kalpha_CRBN', '245_BTK_CRBN', '1915_GSK-3beta_CRBN', '1401_c-Met_CRBN', '2852_JAK2_CRBN', '2076_BTK_CRBN', '631_BCL-xL_VHL', '829_ER_VHL', '418_CDK6_VHL', '2339_BRD2_VHL', 'b324_AKT1_CRBN', '3224_HDAC3_CRBN', '336_BRD4_VHL', '2708_BCR-ABL_CRBN', '2391_ALK_CRBN', '1808_FAK_CRBN', '3152_CDK6_CRBN', '2123_ER_CRBN', '508_BCL2_CRBN', 'b109_CDK2_CRBN', '2354_TTK_CRBN', '17_BRD9_VHL', '2744_GSK3A_CRBN', '3016_Wee1_CRBN', '1645_p38alpha_CRBN', '475_STAT3_CRBN', '1414_c-KIT_CRBN', '1008_HDAC6_CRBN', 'b300_BRD4-BD1_KEAP1', '1866_AR_CRBN', '39_MDM2_CRBN', '2712_BCR-ABL-T315A_CRBN', '2726_HSP90_CRBN', '1278_BCL-xL_cIAP1', '1605_BCR-ABL_CRBN', '2929_FLT3-ITD_CRBN', '493_STAT3_CRBN', '2643_BRD4_CRBN', '1518_BRD4_CRBN', '133_BRD4_CRBN', '2699_BCR-ABL_CRBN', '1342_Beta-tubulin_CRBN', '2340_BRD3_VHL', '2742_CDK12_CRBN', '2224_ALK_CRBN', '1267_PD-L1_CRBN', '2314_AR_CRBN', '2969_PD-L1_CRBN', 'b47_CDK9_CRBN', '2599_AKT1_CRBN', '2337_AR_CRBN', '2521_AR_CRBN', '970_CRBN_VHL', '2024_CDK6_CRBN', '225_HDAC6_CRBN', '2645_BRD4_CRBN', '1191_BRD9_CRBN', 'b305_NSD3_VHL', '2939_FLT3-ITD-D835V_CRBN', '1291_PARP1_CRBN', '425_CDK4_CRBN', 'b73_MDM2_CRBN', '192_CDK6_CRBN', '3235_HSF1_CRBN', '2332_AR_CRBN', '2555_AKT3_VHL', '2389_BCL-xL_VHL', '250_BTK_MDM2', '750_BTK_VHL', '163_BRD4_CRBN', '1393_BTK_CRBN', '2368_RIPK2_IAP', '653_BCL-xL_CRBN', '219_BTK_CRBN', '3185_BTK_CRBN', '2001_EGFR-L858R-T790M_VHL', 'b125_BRD4_VHL', '159_BRD2_CRBN', 'b15_WDR5_VHL', '2633_SOS1_VHL', '2040_CDK4_MDM2', '1978_ALK_CRBN', 'b34_PD-L1_CRBN', '140_BRD4_CRBN', '2550_AKT3_VHL', '2938_FLT3_CRBN', '2644_BRD3_CRBN', '2331_AR_CRBN', '1262_PD-L1_CRBN', 'b53_CDK9_CRBN', '665_BCL-xL_CRBN', '1174_HDAC6_VHL', '191_CDK6_CRBN', '988_Cdc20_CRBN', 'b114_AR_CRBN', '2716_BCR-ABL_CRBN', '1427_CDK4_MDM2', '701_CDK4_CRBN', '2469_CDK9_CRBN', '217_BTK_CRBN', '131_BRD2_CRBN', '984_Cdc20_VHL', '2102_AR_VHL', '283_BTK_CRBN', '1317_TRIM24_VHL', '1596_PDEdelta_CRBN', '2219_ALK_CRBN', '967_CRBN_VHL', '44_MDM2_CRBN', '1983_ALK_CRBN', '1205_CDK2_CRBN', '1622_BCR-ABL-T315I_CRBN', '2845_HDAC6_CRBN', '2017_HDAC3_VHL', '1498_SHP2_VHL', '1865_HDAC3_CRBN', '408_BCR-ABL_VHL', '1036_ER_cIAP1', '2906_MIF_CRBN', '2765_GSK-3beta_CRBN', '604_CDK9_CRBN', '2343_BRD2_VHL', '856_ER_VHL', 'b300_BRD4-BD2_KEAP1', '2810_MDM2_CRBN', '2254_CDK12_CRBN', '1379_CDK8_CRBN', '796_SMARCA2_VHL', '1578_TRKC_CRBN', '2212_ALK_CRBN', 'b294_BRD4-BD2_KEAP1', '2202_ALK_CRBN', '328_BRD3_VHL', '385_CDK6_CRBN', '1626_p38alpha_CRBN', '1340_Alpha-tubulin_CRBN', '607_CDK9_CRBN', 'b276_CDK9_CRBN', '2249_CDK12_CRBN', '765_JAK1_VHL', '2350_TTK_CRBN', '3220_BCL2_VHL', '2775_AXL_CRBN', '2511_AR_CRBN', 'b359_AKT2_CRBN', '2454_EZH2_VHL', '16_BRD9_VHL', '431_MEK1_VHL', '2030_CDK4_VHL', '61_ER_VHL', '2782_AXL_CRBN', 'b331_AKT1_CRBN', '143_BRD4_CRBN', '980_RIPK2_cIAP1', '735_BRD4_CRBN', '574_EGFR-L858R-T790M_MDM2', '174_CRBN_VHL', 'b50_CDK9_CRBN', '473_BCR-ABL_VHL', '727_HDAC1_CRBN', '184_p38delta_VHL', 'b235_BTK_CRBN', '1997_EGFR-L858R-T790M_CRBN', 'b168_HPK1_CRBN', '1499_SHP2_VHL', '103_AR_VHL', '1308_PARP1_CRBN', '211_BTK_CRBN', '507_MCL1_CRBN', '555_MDM2_CRBN', '2550_AKT1_VHL', '2471_CDK9_CRBN', '1033_BCR-ABL_cIAP1', '2743_GSK-3beta_CRBN', '2995_SHP2_CRBN', '684_eIF4E_CRBN', '743_CDK4_cIAP1', '1727_MEK2_VHL', '1352_Src_CRBN', '740_CDK4_VHL', 'b203_GSPT1_CRBN', '1197_BRD9_CRBN', '2968_PD-L1_CRBN', '2110_HDAC6_cIAP1', '132_BRD4_CRBN', '1552_EGFR-L858R-T790M_CRBN', '393_CDK6_CRBN', 'b289_CDK9_CRBN', '1305_PARP1_CRBN', '252_BTK_CRBN', '1252_PD-L1_CRBN', '1681_PARP1_CRBN', '1651_BRD4_VHL', '2480_CDK9_CRBN', '158_BRD3_CRBN', '3269_ER_CRBN', 'b165_BRD4_CRBN', '359_AR_VHL', '574_EGFR_MDM2', '3225_HDAC6_CRBN', '285_RIPK2_CRBN', '3170_AR_CRBN', '1038_ER_cIAP1', '2413_EGFR-e19d_VHL', '366_AR_VHL', '2423_HDAC2_VHL', '529_ALK_VHL', '648_BCL-xL_CRBN', '1672_PARP1_CRBN', '1722_MEK1_VHL', '825_ER_VHL', 'b45_CDK9_CRBN', '1756_MEK2_CRBN', '2957_PD-L1_CRBN', '188_p38alpha_VHL', '3228_HDAC3_CRBN', 'b40_CDK9_CRBN', '1944_VEGFR-2_VHL', '24_BRD9_VHL', '2525_AR_CRBN', '704_CDK4_CRBN', '738_BRD4_CRBN', '2463_CDK9_CRBN', '59_ER_VHL', 'b101_BRAF-K601E_VHL', '1057_ER_cIAP1', '542_ALK_VHL', '2970_PD-L1_CRBN', '2351_TTK_CRBN', '2269_FLT3-ITD_CRBN', '3227_HDAC1_CRBN', 'b290_CDK9_CRBN', '1272_PD-L1_CRBN', '727_HDAC3_CRBN', '1986_ALK_CRBN', '2751_GSK-3beta_CRBN', '1387_BTK_CRBN', '2566_AKT1_CRBN', '2396_RPS6KA1_CRBN', '3056_AR_CRBN', '1739_MEK2_CRBN', '3261_MLLT1_CRBN', '773_JAK1_XIAP', '911_ER_VHL', '2427_HDAC2_VHL', '26_BRD7_VHL', 'b83_eIF4E_CRBN', '805_FKBP12_CRBN', '259_ALK_VHL', '1212_CDK5_CRBN', '817_PLK1_CRBN', '2820_MDM2_CRBN', '2769_GSK-3beta_CRBN', '32_BRD9_VHL', '3157_AR_CRBN', '3093_BTK_CRBN', '1082_BRAF-V600E_CRBN', '469_BCR-ABL_VHL', '839_ER_CRBN', '2570_AKT1_CRBN', '2067_BTK_cIAP1', 'b180_HDAC2_CRBN', '2593_AKT2_CRBN', '600_CDK2_CRBN', '2850_JAK3_CRBN', '2079_BTK_CRBN', '676_eIF4E_CRBN', '384_CDK6_CRBN', '369_AR_VHL', 'b97_ER_VHL', '2394_ALK_CRBN', '339_BRD4_CRBN', '1724_MEK1_VHL', '2934_FLT3-ITD-F691L_CRBN', '1781_PRMT5_VHL', '2241_SHP2_CRBN', '1685_PARP1_VHL', '1180_HDAC6_VHL', '1640_p38alpha_CRBN', '321_BCR-ABL_VHL', '675_CYP1B1_CRBN', '1018_BCR-ABL_cIAP1', '3133_BCR-ABL-T315I_CRBN', '3233_HDAC3_CRBN', '1869_AR_CRBN', '2551_AKT1_VHL', '1451_IRAK4_CRBN', '848_ER_VHL', '1708_IRAK3_VHL', '2356_TTK_CRBN', '65_ER_VHL', 'b4_WDR5_CRBN', '2462_CDK9_CRBN', '236_BRAF_CRBN', '240_CDK4_CRBN', '975_FKBP12_CRBN', 'b270_CDK9_CRBN', '2437_HDAC2_VHL', '1579_TRKA_CRBN', 'b145_BRD2_CRBN', '138_BRD4_CRBN', '2711_BCR-ABL_CRBN', 'b79_MDM2_CRBN', 'b263_CDK9_CRBN', '2560_AKT2_CRBN', '1375_BTK_VHL', '285_c-Met_CRBN', '253_BTK_CRBN', '1123_HMGCR_CRBN', '2695_BRD4_CRBN', 'b44_CDK9_CRBN', '1185_HDAC6_VHL', '373_AR_VHL', '414_CDK4_MDM2', '299_CRBN_CRBN', '20_BRD7_VHL', '1486_SHP2_VHL', '2616_EGFR-e19d_VHL', '3007_Wee1_CRBN', '643_BCL-xL_CRBN', '2338_BRD2_VHL', '2021_CDK4_CRBN', '1448_ERRalpha_CRBN', '2410_EGFR-e19d_VHL', '1108_HMGCR_CRBN', '1828_HPGDS_cIAP1', '3231_HDAC3_CRBN', '1864_HDAC3_CRBN', '3264_BRD4_FEM1B', '64_ER_VHL', '183_RIPK2_VHL', '2207_ALK_CRBN', '2074_BRAF_VHL', '1670_PARP1_CRBN', '2437_HDAC1_VHL', '159_BRD3_CRBN', '2074_BRAF-V600K_VHL', '1997_EGFR-e19d_CRBN', '2231_EGFR-L858R-T790M_CRBN', '918_ER_VHL', '700_CDK6_CRBN', '1110_HMGCR_CRBN', '2639_SOS1_VHL', '2720_HSP90_CRBN', '1600_PDEdelta_CRBN', '414_CDK6_MDM2', '2230_EGFR-e19d_CRBN', '2649_BRD3_CRBN', '1271_PD-L1_CRBN', '3068_IRAK1_VHL', '257_AR_VHL', '2262_FLT3-ITD_CRBN', '2573_AKT3_CRBN', '374_AR_VHL', '2424_HDAC2_VHL', '377_CDK6_CRBN', '474_BCR-ABL_VHL', '444_MEK1_CRBN', '492_STAT3_CRBN', '3232_HDAC6_CRBN', '2289_WDR5_VHL', '715_PDEdelta_VHL', '2511_AR-T878A_CRBN', '2411_EGFR-e19d_VHL', '885_ER_VHL', '18_BRD7_VHL', 'b181_HDAC2_CRBN', '2518_AR_CRBN', '1945_VEGFR-2_VHL', '387_CDK6_CRBN', '2449_EZH2_VHL', '685_eIF4E_CRBN', '2646_BRD2_CRBN', '2315_AR_CRBN', '2830_BTK-C481S_CRBN', '3174_BTK-C481W_CRBN', '2624_EGFR-L858R-T790M_VHL', '138_BRD2_CRBN', '1390_BTK_VHL', '580_EGFR_MDM2', '612_CDK2_CRBN', '327_BCR-ABL_CRBN', '916_ER_VHL', '1408_c-KIT_CRBN', '210_BTK_CRBN', '3137_BCR-ABL-T315I_CRBN', '2578_AKT3_VHL', '1378_CDK8_CRBN', '107_AR_VHL', '2563_AKT1_CRBN', '388_CDK6_CRBN', '2078_BTK_CRBN', '3250_WDR5_VHL', '2213_ALK_CRBN', 'b176_BTK_CRBN', '997_VHL_VHL', '2712_BCR-ABL-E255V_CRBN', '1754_MEK1_CRBN', '377_CDK4_CRBN', '2059_BRAF-V600E_CRBN', '595_EGFR-e19d_CRBN', '1394_BTK_CRBN', '899_ER_VHL', '2712_BCR-ABL-F317V_CRBN', '2387_BCL-xL_VHL', '2839_BTK-C481S_CRBN', '164_BRD2_CRBN', '214_BTK_CRBN', '1384_BTK_CRBN', '145_BRD2_CRBN', '1747_MEK1_CRBN', '2583_AKT1_VHL', '459_BCR-ABL_VHL', '1362_BTK_CRBN', '2230_EGFR-L858R-T790M_CRBN', '2397_ALK_CRBN', '200_ERRalpha_VHL', '1654_BRD2_VHL', '2436_HDAC2_VHL', '2902_MIF_CRBN', '2556_AKT3_VHL', '3092_BTK_CRBN', '2227_EGFR-e19d_CRBN', '2527_AR-T878A_CRBN', '274_FLT-3_VHL', '1818_FAK_CRBN', '2232_EGFR-L858R-T790M_CRBN', '3216_BCL2_VHL', 'b291_CDK9_CRBN', '3151_CDK4_CRBN', '602_CDK9_CRBN', '1994_EGFR-e19d_CRBN', '167_BRD4_CRBN', '1283_BCL-xL_XIAP', '711_CDK9_CRBN', '276_EGFR-L858R_VHL', 'b58_CDK9_CRBN', '282_BTK_CRBN', '2029_CDK4_VHL', '1330_HDAC6_CRBN', '875_ER_VHL', '1045_ER_cIAP1', '1860_HDAC3_CRBN', '888_ER_VHL', '254_BTK_CRBN', 'b128_BRD3_VHL', '2944_FLT3-ITD-F691L_CRBN', '2074_BRAF-G469A_VHL', '2549_AKT1_VHL', '2933_FLT3_CRBN', '2457_CDK9_CRBN', '416_CDK4_VHL', 'b379_ER_VHL', '433_MEK1_VHL', '642_BCL-xL_CRBN', '1654_BRD3_VHL', '123_AR_VHL', '1580_TRKC_CRBN', '2461_CDK9_CRBN', '583_EGFR-L858R-T790M_VHL', '3136_BCR-ABL-T315I_CRBN', 'b99_ER_VHL', '1678_PARP1_CRBN', '1527_BRD4_CRBN', '1676_PARP1_CRBN', 'b198_GSPT1_CRBN', 'b209_AR_CRBN', '2504_AR_CRBN', '3005_Wee1_CRBN', '2618_EGFR-e19d_VHL', 'b284_CDK9_CRBN', '2931_FLT3-ITD-D835V_CRBN', '953_KRAS-G12C_CRBN', '2523_AR_CRBN', '1452_IRAK4_CRBN', '2532_ALK_CRBN', '1728_MEK2_VHL', '1631_p38alpha_CRBN', '502_MCL1_CRBN', '1099_BRAF-V600E_CRBN', '31_BRD9_VHL', '2649_BRD2_CRBN', '7_BRD9_VHL', '2421_HDAC1_VHL', '2870_FGFR2_CRBN', '2562_AKT3_CRBN', '1742_MEK1_CRBN', '2807_MDM2_CRBN', '584_EGFR_VHL', '2312_AR_CRBN', '1715_IRAK3_CRBN', '166_BRD3_CRBN', '1153_MEK1_VHL', '1102_BRAF-V600E_VHL', '2768_GSK3A_CRBN', '476_STAT3_CRBN', '495_STAT3_CRBN', '1265_PD-L1_CRBN', '1471_ER_VHL', '2342_BRD3_VHL', '995_Cdc20_CRBN', '2486_CDK9_CRBN', '2554_AKT3_VHL', '1467_ER_VHL', '2705_BCR-ABL_CRBN', '1289_PARP1_CRBN', '2007_IRAK4_CRBN', '2934_FLT3-ITD-D835V_CRBN', '769_JAK1_CRBN', '986_Cdc20_VHL', '499_BCL2_CRBN', '2509_AR_CRBN', '817_BRD4_CRBN', '1171_HDAC6_CRBN', '1682_PARP1_CRBN', '29_BRD7_VHL', '2680_CDK2_CRBN', '436_MEK1_VHL', '1897_AR_VHL', '1035_ER_cIAP1', '2552_AKT1_VHL', '1553_EGFR-L858R-T790M_CRBN', '1709_IRAK3_VHL', '14_BRD9_VHL', '372_AR_VHL', '2646_BRD3_CRBN', 'b252_CDK9_CRBN', '1783_BRD4_VHL', 'b68_MDM2_CRBN', '3109_BRAF-V600E_CRBN', '2549_AKT2_VHL', '2345_TTK_VHL', '663_BCL-xL_CRBN', '3230_HDAC1_CRBN', '1311_PARP1_CRBN', '471_BCR-ABL_VHL', 'b51_CDK9_CRBN', '2800_MDM2_CRBN', '2763_GSK-3beta_CRBN', '704_CDK6_CRBN', '1300_PARP1_CRBN', '619_BCL-xL_VHL', '506_BCL2_CRBN', '3214_BCL-xL_VHL', '181_p38delta_VHL', '496_STAT3_CRBN', 'b30_PD-L1_CRBN', '74_ER_VHL', '1432_AR_VHL', '1065_AR_cIAP1', '131_BRD3_CRBN', '2622_EGFR-e19d_VHL', 'b329_AKT1_CRBN', '1969_CDK6_CRBN', 'b265_CDK9_CRBN', '2013_HDAC3_CRBN', '1395_BTK_CRBN', '835_ER_CRBN', '1993_EGFR-L858R-T790M_CRBN', 'b232_ABL_VHL', '2748_GSK-3beta_CRBN', '1426_CDK6_CRBN', '1275_BCL-xL_cIAP1', 'b226_AR_CRBN', '1835_IDO1_CRBN', 'b219_AR_CRBN', '1011_CRBN_VHL', 'b233_ABL_CRBN', 'b227_AR_CRBN', '271_FAK_CRBN', '137_BRD3_CRBN', '2479_CDK9_CRBN', '3246_WDR5_VHL', '952_KRAS-G12C_CRBN', '615_CDK9_CRBN', '2909_MIF_CRBN', '942_AKT1_CRBN', '1002_VHL_VHL', '1071_AR_cIAP1', '2759_GSK-3beta_CRBN', '268_FAK_VHL', '2838_BTK-C481S_CRBN', '544_AURKA_CRBN', '1705_IRAK3_CRBN', '1735_MEK1_VHL', '3057_AR_CRBN', '247_BTK_MDM2', '329_BRD4_CRBN', '1086_BRAF-V600E_CRBN', '394_CDK6_CRBN', '2259_FLT3-ITD_CRBN', '1744_MEK1_CRBN', 'b128_BRD2_VHL', '724_HDAC6_CRBN', '2545_HPGDS_CRBN', '2626_EGFR-L858R-T790M_VHL', '2803_MDM2_CRBN', 'b164_ABL_CRBN', '2610_EGFR-e19d_VHL', '682_eIF4E_CRBN', '2489_CDK9_CRBN', '2569_AKT2_CRBN', '797_SMARCA2_VHL', '2789_AXL_CRBN', '3090_BTK_CRBN', '1614_BCR-ABL_CRBN', 'b323_AKT1_CRBN', '1762_EZH2_CRBN', '194_BRD2_CRBN', '3240_WDR5_VHL', '1350_Src_CRBN', '2535_ALK_CRBN', '879_ER_VHL', '3249_WDR5_VHL', '8_BRD7_VHL', '884_ER_VHL', '290_CDK9_CRBN', '959_BCR-ABL_VHL', '1554_EGFR-L858R-T790M_VHL', '592_EGFR-e19d_VHL', 'b143_BRD4_MDM2', '2573_AKT2_CRBN', '837_ER_CRBN', 'b333_AKT1_CRBN', '151_BRD4_VHL', '744_CDK4_cIAP1', '632_BCL-xL_VHL', '1887_AR_VHL', '2767_GSK3A_CRBN', '3156_AR_CRBN', '438_MEK1_CRBN', '1282_BCL-xL_XIAP', '747_BCR-ABL_cIAP1', '142_BRD4_CRBN', '1386_BTK_CRBN', '1796_BRD4_VHL', '2440_HDAC1_VHL', '712_PDEdelta_CRBN', '2897_BRD2_CRBN', '3146_HMGCR_CRBN', '41_MDM2_CRBN', '1307_PARP2_CRBN', '2455_CDK9_CRBN', '1734_MEK1_VHL', '597_EGFR-L858R_CRBN', '2510_AR-T878A_CRBN', '1996_EGFR-e19d_VHL', '302_CRBN_CRBN', '2903_MIF_CRBN', '3115_MDM2_MDM2', '2656_BRD4_CRBN', '2385_BCL-xL_VHL', '1977_ALK_CRBN', 'b85_eIF4E_CRBN', '423_CDK4_cIAP1', '2498_AR_CRBN', '730_HDAC3_VHL', '601_CDK2_CRBN', '864_ER_VHL', '1641_p38alpha_CRBN', '2733_HSP90_MDM2', '2129_ER_CRBN', '407_BCR-ABL_CRBN', '1273_BCL-xL_cIAP1', '2014_HDAC3_CRBN', '2929_FLT3_CRBN', '3123_MDM2_MDM2', '722_CDK4_CRBN', '1238_FLT-3_CRBN', 'b352_AKT2_VHL', '2372_RIPK2_IAP', '416_CDK6_VHL', '2420_HDAC3_VHL', '392_CDK4_CRBN', '730_HDAC1_VHL', '1838_SHP2_CRBN', 'b238_BTK_CRBN', '2499_AR_CRBN', '1604_BCR-ABL_CRBN', '364_AR_VHL', '2987_KRAS-G12C_CRBN', '381_CDK6_CRBN', '2561_AKT2_CRBN', '185_p38alpha_VHL', '2378_RIPK2_IAP', '708_CDK4_CRBN', 'b244_FAK_VHL', '2850_JAK2_CRBN', '1790_BRD4_VHL', '338_AR_MDM2', '895_ER_VHL', '1515_BRD2_VHL', '229_BRD4_VHL', '2780_AXL_CRBN', '522_ALK_VHL', '548_MDM2_CRBN', '2201_ALK_CRBN', 'b121_AR_CRBN', '1366_BTK_CRBN', '1903_GSK-3beta_CRBN', '1220_EGFR_CRBN', '1363_BTK_CRBN', '951_KRAS-G12C_CRBN']\n"
     ]
    }
   ],
   "source": [
    "from rdkit import Chem\n",
    "from rdkit.Chem import Draw\n",
    "from rdkit.Chem import Draw, AllChem\n",
    "import pickle\n",
    "import os\n",
    "\n",
    "\n",
    "directory_path = 'PROTAC_data'\n",
    "files_in_directory = os.listdir(directory_path)\n",
    "# print(files_in_directory)\n",
    "field_prefix = 'linker'\n",
    "\n",
    "for file_name in files_in_directory:\n",
    "    file_path = os.path.join(directory_path, file_name)\n",
    "    file_list = os.listdir(file_path)\n",
    "    for file in file_list:\n",
    "        if file.startswith(field_prefix):\n",
    "            file_path = os.path.join(file_path, file)\n",
    "            with open(file_path, 'r') as file:\n",
    "                file_content = file.read()\n",
    "                mol = Chem.MolFromSmiles(file_content)\n",
    "                # AllChem.Compute2DCoords(mol)\n",
    "                if mol is not None:\n",
    "                    img = Chem.Draw.MolToImage(mol,size=(500, 500))\n",
    "                    img.save(f\"picture/linker/{file_path.split('/')[1]}.png\")  # 保存到文件\n",
    "                else:\n",
    "                    print(f\"{file_path.split('/')[1]}无法读取分子\")\n",
    "                \n",
    "\n",
    "\n"
   ]
  },
  {
   "cell_type": "code",
   "execution_count": 14,
   "metadata": {},
   "outputs": [],
   "source": [
    "from rdkit import Chem\n",
    "from rdkit.Chem import Draw\n",
    "from rdkit.Chem import Draw, AllChem\n",
    "import pickle\n",
    "import os\n",
    "\n",
    "\n",
    "directory_path = 'PROTAC_data'\n",
    "files_in_directory = os.listdir(directory_path)\n",
    "# print(files_in_directory)\n",
    "field_prefix = 'protac'\n",
    "\n",
    "for file_name in files_in_directory:\n",
    "    file_path = os.path.join(directory_path, file_name)\n",
    "    file_list = os.listdir(file_path)\n",
    "    for file in file_list:\n",
    "        if file.startswith(field_prefix):\n",
    "            file_path = os.path.join(file_path, file)\n",
    "            with open(file_path, 'r') as file:\n",
    "                file_content = file.read()\n",
    "                mol = Chem.MolFromSmiles(file_content)\n",
    "                # AllChem.Compute2DCoords(mol)\n",
    "                if mol is not None:\n",
    "                    img = Chem.Draw.MolToImage(mol,size=(500, 500))\n",
    "                    img.save(f\"picture/protac/{file_path.split('/')[1]}.png\")  # 保存到文件\n",
    "                else:\n",
    "                    print(f\"{file_path.split('/')[1]}无法读取分子\")\n",
    "                \n",
    "\n",
    "\n"
   ]
  },
  {
   "cell_type": "code",
   "execution_count": 16,
   "metadata": {},
   "outputs": [
    {
     "name": "stderr",
     "output_type": "stream",
     "text": [
      "RDKit ERROR: [16:46:51] Can't kekulize mol.  Unkekulized atoms: 0 3 4 5 6 7 8 9 10 11 12\n",
      "RDKit ERROR: \n"
     ]
    },
    {
     "name": "stdout",
     "output_type": "stream",
     "text": [
      "2876_FGFR2_CRBN.smi 分子清洗失败：Can't kekulize mol.  Unkekulized atoms: 0 3 4 5 6 7 8 9 10 11 12\n",
      "\n"
     ]
    },
    {
     "name": "stderr",
     "output_type": "stream",
     "text": [
      "RDKit ERROR: [16:46:53] Can't kekulize mol.  Unkekulized atoms: 0 1 2 3 4 5 6 7 10 13 14\n",
      "RDKit ERROR: \n"
     ]
    },
    {
     "name": "stdout",
     "output_type": "stream",
     "text": [
      "2870_FGFR2_CRBN.smi 分子清洗失败：Can't kekulize mol.  Unkekulized atoms: 0 1 2 3 4 5 6 7 10 13 14\n",
      "\n"
     ]
    },
    {
     "name": "stderr",
     "output_type": "stream",
     "text": [
      "RDKit ERROR: [16:47:15] Can't kekulize mol.  Unkekulized atoms: 0 1 2 3 4 5 6 7 10 13 14\n",
      "RDKit ERROR: \n"
     ]
    },
    {
     "name": "stdout",
     "output_type": "stream",
     "text": [
      "2874_FGFR2_CRBN.smi 分子清洗失败：Can't kekulize mol.  Unkekulized atoms: 0 1 2 3 4 5 6 7 10 13 14\n",
      "\n"
     ]
    },
    {
     "name": "stderr",
     "output_type": "stream",
     "text": [
      "RDKit ERROR: [16:47:22] Can't kekulize mol.  Unkekulized atoms: 0 1 2 3 4 5 6 7 10 13 14\n",
      "RDKit ERROR: \n"
     ]
    },
    {
     "name": "stdout",
     "output_type": "stream",
     "text": [
      "2873_FGFR2_CRBN.smi 分子清洗失败：Can't kekulize mol.  Unkekulized atoms: 0 1 2 3 4 5 6 7 10 13 14\n",
      "\n"
     ]
    },
    {
     "name": "stderr",
     "output_type": "stream",
     "text": [
      "RDKit ERROR: [16:47:30] Can't kekulize mol.  Unkekulized atoms: 0 1 2 3 4 5 6 7 10 13 14\n",
      "RDKit ERROR: \n"
     ]
    },
    {
     "name": "stdout",
     "output_type": "stream",
     "text": [
      "2872_FGFR2_CRBN.smi 分子清洗失败：Can't kekulize mol.  Unkekulized atoms: 0 1 2 3 4 5 6 7 10 13 14\n",
      "\n"
     ]
    },
    {
     "name": "stderr",
     "output_type": "stream",
     "text": [
      "RDKit ERROR: [16:48:21] Can't kekulize mol.  Unkekulized atoms: 0 1 2 3 4 5 6 7 8 9 12\n",
      "RDKit ERROR: \n"
     ]
    },
    {
     "name": "stdout",
     "output_type": "stream",
     "text": [
      "1359_NS3_CRBN.smi 分子清洗失败：Can't kekulize mol.  Unkekulized atoms: 0 1 2 3 4 5 6 7 8 9 12\n",
      "\n"
     ]
    },
    {
     "name": "stderr",
     "output_type": "stream",
     "text": [
      "RDKit ERROR: [16:48:21] Can't kekulize mol.  Unkekulized atoms: 0 1 2 3 4 5 6 7 10 13 14\n",
      "RDKit ERROR: \n"
     ]
    },
    {
     "name": "stdout",
     "output_type": "stream",
     "text": [
      "2875_FGFR2_CRBN.smi 分子清洗失败：Can't kekulize mol.  Unkekulized atoms: 0 1 2 3 4 5 6 7 10 13 14\n",
      "\n"
     ]
    },
    {
     "name": "stderr",
     "output_type": "stream",
     "text": [
      "RDKit ERROR: [16:48:39] Can't kekulize mol.  Unkekulized atoms: 0 1 2 3 4 5 6 7 10 13 14\n",
      "RDKit ERROR: \n"
     ]
    },
    {
     "name": "stdout",
     "output_type": "stream",
     "text": [
      "2877_FGFR2_CRBN.smi 分子清洗失败：Can't kekulize mol.  Unkekulized atoms: 0 1 2 3 4 5 6 7 10 13 14\n",
      "\n"
     ]
    }
   ],
   "source": [
    "from rdkit import Chem\n",
    "from rdkit.Chem import Draw, AllChem\n",
    "import os\n",
    "\n",
    "name_list = os.listdir('picture/ligase_ligand_smi/')\n",
    "\n",
    "for i in name_list:\n",
    "    with open(f\"picture/ligase_ligand_smi/{i}\") as f:\n",
    "        smi = f.readline().strip().split()[0]  # 获取 SMILES 字符串并清除空白\n",
    "\n",
    "    mol = Chem.MolFromSmiles(smi, sanitize=False)  # 首先关闭自动清洗功能尝试读取\n",
    "    if mol:\n",
    "        try:\n",
    "            Chem.SanitizeMol(mol)  # 尝试手动清洗分子\n",
    "            AllChem.Compute2DCoords(mol)  # 生成2D坐标\n",
    "            img = Draw.MolToImage(mol, size=(500, 500))\n",
    "            img.save(f\"picture/test/{i.split('.')[0]}.png\")  # 保存到文件\n",
    "        except Exception as e:\n",
    "            print(f\"{i} 分子清洗失败：{str(e)}\")\n",
    "    else:\n",
    "        print(f\"{i} 无法读取分子\")\n"
   ]
  },
  {
   "cell_type": "code",
   "execution_count": null,
   "metadata": {},
   "outputs": [],
   "source": []
  }
 ],
 "metadata": {
  "kernelspec": {
   "display_name": "DeepPROTAC",
   "language": "python",
   "name": "python3"
  },
  "language_info": {
   "codemirror_mode": {
    "name": "ipython",
    "version": 3
   },
   "file_extension": ".py",
   "mimetype": "text/x-python",
   "name": "python",
   "nbconvert_exporter": "python",
   "pygments_lexer": "ipython3",
   "version": "undefined.undefined.undefined"
  },
  "orig_nbformat": 4
 },
 "nbformat": 4,
 "nbformat_minor": 2
}
