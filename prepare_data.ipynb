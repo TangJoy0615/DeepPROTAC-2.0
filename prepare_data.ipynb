{
 "cells": [
  {
   "cell_type": "code",
   "execution_count": 1,
   "metadata": {},
   "outputs": [],
   "source": [
    "import os\n",
    "\n",
    "from pathlib import  Path\n",
    "import glob\n",
    "import pickle\n",
    "from pymol import cmd\n",
    "import random"
   ]
  },
  {
   "cell_type": "code",
   "execution_count": 2,
   "metadata": {},
   "outputs": [],
   "source": [
    "name_list = os.listdir('data')\n",
    "name_list = [x.split('.')[0] for x in name_list]\n",
    "random.shuffle(name_list)"
   ]
  },
  {
   "cell_type": "code",
   "execution_count": 3,
   "metadata": {},
   "outputs": [
    {
     "name": "stdout",
     "output_type": "stream",
     "text": [
      "['63_ER_VHL', '59_ER_VHL', '2_BRD7_VHL', '1_BRD7_VHL', '1_BRD9_VHL', '2_BRD9_VHL', '60_ER_VHL', '57_ER_CRBN', '3_BRD9_CRBN', '4_BRD9_CRBN']\n",
      "10\n"
     ]
    }
   ],
   "source": [
    "print(name_list)\n",
    "print(len(name_list))\n",
    "with open('data_list.pkl', 'wb') as f:\n",
    "    pickle.dump(name_list, f)"
   ]
  },
  {
   "cell_type": "code",
   "execution_count": 5,
   "metadata": {},
   "outputs": [],
   "source": [
    "Path('ligase_ligand').mkdir(exist_ok=True)\n",
    "Path('ligase_pocket_5').mkdir(exist_ok=True)\n",
    "Path('target_ligand').mkdir(exist_ok=True)\n",
    "Path('target_pocket_5').mkdir(exist_ok=True)\n"
   ]
  },
  {
   "cell_type": "code",
   "execution_count": 6,
   "metadata": {},
   "outputs": [
    {
     "name": "stdout",
     "output_type": "stream",
     "text": [
      "['63_ER_VHL', '59_ER_VHL', '2_BRD7_VHL', '1_BRD7_VHL', '1_BRD9_VHL', '2_BRD9_VHL', '60_ER_VHL', '57_ER_CRBN', '3_BRD9_CRBN', '4_BRD9_CRBN']\n",
      "10\n",
      "63_ER_VHL\n",
      " PyMOL not running, entering library mode (experimental)\n",
      "59_ER_VHL\n",
      "2_BRD7_VHL\n",
      "1_BRD7_VHL\n",
      "1_BRD9_VHL\n",
      "2_BRD9_VHL\n",
      "60_ER_VHL\n",
      "57_ER_CRBN\n",
      "3_BRD9_CRBN\n",
      "4_BRD9_CRBN\n"
     ]
    }
   ],
   "source": [
    "f = open('data_list.pkl','rb')\n",
    "data = pickle.load(f)\n",
    "print(data)\n",
    "print(len(data))\n",
    "for i in data:\n",
    "    print(i)\n",
    "    cmd.load(glob.glob('data/'+i+\"/*igase.pdb\")[0])\n",
    "    cmd.remove('h.')\n",
    "    cmd.select(\"ligase_ligand\",\"chain D\")\n",
    "    cmd.save(\"ligase_ligand/\"+i+\".mol2\",\"ligase_ligand\")\n",
    "    cmd.select(\"ligase_pocket_5\",\"byres chain D around 5 and Chain B\")\n",
    "    cmd.save(\"ligase_pocket_5/\"+i+\".mol2\",\"ligase_pocket_5\")\n",
    "    cmd.delete(\"all\")\n",
    "\n",
    "    cmd.load(glob.glob('data/'+i+\"/*rotein.pdb\")[0])\n",
    "    cmd.remove('h.')\n",
    "    cmd.select(\"target_ligand\",\"chain C\")\n",
    "    cmd.save(\"target_ligand/\"+i+\".mol2\",\"target_ligand\")\n",
    "    cmd.select(\"target_pocket_5\",\"byres chain C around 5 and Chain A\")\n",
    "    cmd.save(\"target_pocket_5/\"+i+\".mol2\",\"target_pocket_5\")\n",
    "    cmd.delete(\"all\")"
   ]
  },
  {
   "cell_type": "code",
   "execution_count": 7,
   "metadata": {},
   "outputs": [
    {
     "name": "stdout",
     "output_type": "stream",
     "text": [
      "['63_ER_VHL', '59_ER_VHL', '2_BRD7_VHL', '1_BRD7_VHL', '1_BRD9_VHL', '2_BRD9_VHL', '60_ER_VHL', '57_ER_CRBN', '3_BRD9_CRBN', '4_BRD9_CRBN']\n",
      "10\n"
     ]
    }
   ],
   "source": [
    "f = open('data_list.pkl','rb')\n",
    "data = pickle.load(f)\n",
    "print(data)\n",
    "print(len(data))"
   ]
  },
  {
   "cell_type": "code",
   "execution_count": 8,
   "metadata": {},
   "outputs": [],
   "source": [
    "\n",
    "for i in data:\n",
    "    os.system(f\"babel ligase_ligand/{i}.mol2  ligase_ligand/{i}.mol2\")\n",
    "    os.system(f\"babel ligase_pocket_5/{i}.mol2  ligase_pocket_5/{i}.mol2\")\n",
    "    os.system(f\"babel target_ligand/{i}.mol2  target_ligand/{i}.mol2\")\n",
    "    os.system(f\"babel target_pocket_5/{i}.mol2  target_pocket_5/{i}.mol2\")\n",
    "\n"
   ]
  },
  {
   "cell_type": "code",
   "execution_count": null,
   "metadata": {},
   "outputs": [],
   "source": []
  }
 ],
 "metadata": {
  "kernelspec": {
   "display_name": "Python 3.8.13 ('torch182')",
   "language": "python",
   "name": "python3"
  },
  "language_info": {
   "codemirror_mode": {
    "name": "ipython",
    "version": 3
   },
   "file_extension": ".py",
   "mimetype": "text/x-python",
   "name": "python",
   "nbconvert_exporter": "python",
   "pygments_lexer": "ipython3",
   "version": "3.7.10"
  },
  "vscode": {
   "interpreter": {
    "hash": "0d578cc0e6537862516a1af1cc030bfa65e32364deb5f0e1b768686286fea976"
   }
  }
 },
 "nbformat": 4,
 "nbformat_minor": 2
}
